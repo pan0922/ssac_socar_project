{
 "cells": [
  {
   "cell_type": "code",
   "execution_count": 152,
   "id": "ff6021bb",
   "metadata": {},
   "outputs": [],
   "source": [
    "import pandas as pd\n",
    "pd.options.display.max_columns = 100\n",
    "data = pd.read_csv('carsharing_features.csv',index_col = 0)"
   ]
  },
  {
   "cell_type": "code",
   "execution_count": 153,
   "id": "9fbdd77c",
   "metadata": {},
   "outputs": [
    {
     "data": {
      "text/plain": [
       "(6850, 42)"
      ]
     },
     "execution_count": 153,
     "metadata": {},
     "output_type": "execute_result"
    }
   ],
   "source": [
    "data.shape"
   ]
  },
  {
   "cell_type": "code",
   "execution_count": 116,
   "id": "e4ec118b",
   "metadata": {},
   "outputs": [],
   "source": [
    "data=data.drop(['최근탑승후경과일수'], axis=1)"
   ]
  },
  {
   "cell_type": "code",
   "execution_count": 117,
   "id": "49b9e0c3",
   "metadata": {},
   "outputs": [
    {
     "data": {
      "text/html": [
       "<div>\n",
       "<style scoped>\n",
       "    .dataframe tbody tr th:only-of-type {\n",
       "        vertical-align: middle;\n",
       "    }\n",
       "\n",
       "    .dataframe tbody tr th {\n",
       "        vertical-align: top;\n",
       "    }\n",
       "\n",
       "    .dataframe thead th {\n",
       "        text-align: right;\n",
       "    }\n",
       "</style>\n",
       "<table border=\"1\" class=\"dataframe\">\n",
       "  <thead>\n",
       "    <tr style=\"text-align: right;\">\n",
       "      <th></th>\n",
       "      <th>아이디</th>\n",
       "      <th>등급</th>\n",
       "      <th>성별</th>\n",
       "      <th>연령</th>\n",
       "      <th>주소</th>\n",
       "      <th>차종count</th>\n",
       "      <th>대여존count</th>\n",
       "      <th>총요금합계</th>\n",
       "      <th>총요금평균</th>\n",
       "      <th>총요금최대</th>\n",
       "      <th>가입후경과일수</th>\n",
       "      <th>최초탑승후경과일수</th>\n",
       "      <th>예약일시count</th>\n",
       "      <th>종료</th>\n",
       "      <th>취소</th>\n",
       "      <th>취소비율</th>\n",
       "      <th>예약시간_총합</th>\n",
       "      <th>예약시간_최대</th>\n",
       "      <th>예약시간_평균</th>\n",
       "      <th>이용시간_총합</th>\n",
       "      <th>이용시간_최대</th>\n",
       "      <th>이용시간_평균</th>\n",
       "      <th>예약대기시간_총합</th>\n",
       "      <th>예약대기시간_최대</th>\n",
       "      <th>예약대기시간_평균</th>\n",
       "      <th>이용거리_총합</th>\n",
       "      <th>이용거리_최대</th>\n",
       "      <th>이용거리_평균</th>\n",
       "      <th>누적이용금액</th>\n",
       "      <th>취소패널티합계</th>\n",
       "      <th>반납지연요금합계</th>\n",
       "      <th>연장요금합계</th>\n",
       "      <th>반납지연률</th>\n",
       "      <th>연장빈도률</th>\n",
       "      <th>쿠폰사용률</th>\n",
       "      <th>주말사용율</th>\n",
       "      <th>사용주기</th>\n",
       "      <th>주사용시간대</th>\n",
       "      <th>타도시방문비율</th>\n",
       "      <th>출퇴근시간대사용비율</th>\n",
       "      <th>휴면여부</th>\n",
       "    </tr>\n",
       "  </thead>\n",
       "  <tbody>\n",
       "    <tr>\n",
       "      <th>0</th>\n",
       "      <td>jjy2837</td>\n",
       "      <td>GRDA05</td>\n",
       "      <td>남</td>\n",
       "      <td>48</td>\n",
       "      <td>서울</td>\n",
       "      <td>1</td>\n",
       "      <td>2</td>\n",
       "      <td>2131600.0</td>\n",
       "      <td>47369.0</td>\n",
       "      <td>158180.0</td>\n",
       "      <td>1527</td>\n",
       "      <td>723</td>\n",
       "      <td>63</td>\n",
       "      <td>45</td>\n",
       "      <td>18</td>\n",
       "      <td>0.285714</td>\n",
       "      <td>624.833333</td>\n",
       "      <td>48.0</td>\n",
       "      <td>13.885185</td>\n",
       "      <td>583.450000</td>\n",
       "      <td>39.933333</td>\n",
       "      <td>12.965556</td>\n",
       "      <td>3237.500000</td>\n",
       "      <td>668.016667</td>\n",
       "      <td>71.944444</td>\n",
       "      <td>5013.0</td>\n",
       "      <td>398.0</td>\n",
       "      <td>111.400000</td>\n",
       "      <td>3213730.0</td>\n",
       "      <td>0.0</td>\n",
       "      <td>0.0</td>\n",
       "      <td>54560.0</td>\n",
       "      <td>0.0</td>\n",
       "      <td>0.111111</td>\n",
       "      <td>0.288889</td>\n",
       "      <td>0.67</td>\n",
       "      <td>7.0</td>\n",
       "      <td>10.0</td>\n",
       "      <td>0.0</td>\n",
       "      <td>0.377778</td>\n",
       "      <td>0</td>\n",
       "    </tr>\n",
       "    <tr>\n",
       "      <th>1</th>\n",
       "      <td>cholong119</td>\n",
       "      <td>GRDA02</td>\n",
       "      <td>여</td>\n",
       "      <td>28</td>\n",
       "      <td>서울</td>\n",
       "      <td>1</td>\n",
       "      <td>1</td>\n",
       "      <td>238550.0</td>\n",
       "      <td>59638.0</td>\n",
       "      <td>83080.0</td>\n",
       "      <td>960</td>\n",
       "      <td>759</td>\n",
       "      <td>5</td>\n",
       "      <td>4</td>\n",
       "      <td>1</td>\n",
       "      <td>0.200000</td>\n",
       "      <td>53.500000</td>\n",
       "      <td>21.0</td>\n",
       "      <td>13.375000</td>\n",
       "      <td>50.000000</td>\n",
       "      <td>20.583333</td>\n",
       "      <td>12.500000</td>\n",
       "      <td>21.033333</td>\n",
       "      <td>8.750000</td>\n",
       "      <td>5.258333</td>\n",
       "      <td>493.0</td>\n",
       "      <td>233.0</td>\n",
       "      <td>123.250000</td>\n",
       "      <td>1699735.0</td>\n",
       "      <td>0.0</td>\n",
       "      <td>0.0</td>\n",
       "      <td>18480.0</td>\n",
       "      <td>0.0</td>\n",
       "      <td>0.250000</td>\n",
       "      <td>0.250000</td>\n",
       "      <td>0.50</td>\n",
       "      <td>15.0</td>\n",
       "      <td>22.0</td>\n",
       "      <td>0.0</td>\n",
       "      <td>0.500000</td>\n",
       "      <td>0</td>\n",
       "    </tr>\n",
       "    <tr>\n",
       "      <th>2</th>\n",
       "      <td>youmi0217</td>\n",
       "      <td>GRDA06</td>\n",
       "      <td>여</td>\n",
       "      <td>28</td>\n",
       "      <td>인천</td>\n",
       "      <td>3</td>\n",
       "      <td>3</td>\n",
       "      <td>3119020.0</td>\n",
       "      <td>28615.0</td>\n",
       "      <td>181560.0</td>\n",
       "      <td>1413</td>\n",
       "      <td>713</td>\n",
       "      <td>116</td>\n",
       "      <td>109</td>\n",
       "      <td>7</td>\n",
       "      <td>0.060345</td>\n",
       "      <td>621.666667</td>\n",
       "      <td>54.0</td>\n",
       "      <td>5.703364</td>\n",
       "      <td>583.716667</td>\n",
       "      <td>54.083333</td>\n",
       "      <td>5.355199</td>\n",
       "      <td>139.916667</td>\n",
       "      <td>36.750000</td>\n",
       "      <td>1.283639</td>\n",
       "      <td>8629.0</td>\n",
       "      <td>511.0</td>\n",
       "      <td>79.165138</td>\n",
       "      <td>4419890.0</td>\n",
       "      <td>5000.0</td>\n",
       "      <td>0.0</td>\n",
       "      <td>287640.0</td>\n",
       "      <td>0.0</td>\n",
       "      <td>0.321101</td>\n",
       "      <td>0.201835</td>\n",
       "      <td>0.35</td>\n",
       "      <td>3.0</td>\n",
       "      <td>22.0</td>\n",
       "      <td>0.0</td>\n",
       "      <td>0.155963</td>\n",
       "      <td>0</td>\n",
       "    </tr>\n",
       "  </tbody>\n",
       "</table>\n",
       "</div>"
      ],
      "text/plain": [
       "          아이디      등급 성별  연령  주소  차종count  대여존count      총요금합계    총요금평균  \\\n",
       "0     jjy2837  GRDA05  남  48  서울        1         2  2131600.0  47369.0   \n",
       "1  cholong119  GRDA02  여  28  서울        1         1   238550.0  59638.0   \n",
       "2   youmi0217  GRDA06  여  28  인천        3         3  3119020.0  28615.0   \n",
       "\n",
       "      총요금최대  가입후경과일수  최초탑승후경과일수  예약일시count   종료  취소      취소비율     예약시간_총합  \\\n",
       "0  158180.0     1527        723         63   45  18  0.285714  624.833333   \n",
       "1   83080.0      960        759          5    4   1  0.200000   53.500000   \n",
       "2  181560.0     1413        713        116  109   7  0.060345  621.666667   \n",
       "\n",
       "   예약시간_최대    예약시간_평균     이용시간_총합    이용시간_최대    이용시간_평균    예약대기시간_총합  \\\n",
       "0     48.0  13.885185  583.450000  39.933333  12.965556  3237.500000   \n",
       "1     21.0  13.375000   50.000000  20.583333  12.500000    21.033333   \n",
       "2     54.0   5.703364  583.716667  54.083333   5.355199   139.916667   \n",
       "\n",
       "    예약대기시간_최대  예약대기시간_평균  이용거리_총합  이용거리_최대     이용거리_평균     누적이용금액  취소패널티합계  \\\n",
       "0  668.016667  71.944444   5013.0    398.0  111.400000  3213730.0      0.0   \n",
       "1    8.750000   5.258333    493.0    233.0  123.250000  1699735.0      0.0   \n",
       "2   36.750000   1.283639   8629.0    511.0   79.165138  4419890.0   5000.0   \n",
       "\n",
       "   반납지연요금합계    연장요금합계  반납지연률     연장빈도률     쿠폰사용률  주말사용율  사용주기  주사용시간대  \\\n",
       "0       0.0   54560.0    0.0  0.111111  0.288889   0.67   7.0    10.0   \n",
       "1       0.0   18480.0    0.0  0.250000  0.250000   0.50  15.0    22.0   \n",
       "2       0.0  287640.0    0.0  0.321101  0.201835   0.35   3.0    22.0   \n",
       "\n",
       "   타도시방문비율  출퇴근시간대사용비율  휴면여부  \n",
       "0      0.0    0.377778     0  \n",
       "1      0.0    0.500000     0  \n",
       "2      0.0    0.155963     0  "
      ]
     },
     "execution_count": 117,
     "metadata": {},
     "output_type": "execute_result"
    }
   ],
   "source": [
    "data.head(3)"
   ]
  },
  {
   "cell_type": "code",
   "execution_count": 118,
   "id": "b9c70149",
   "metadata": {},
   "outputs": [],
   "source": [
    "#레이블 인코딩\n",
    "from sklearn.preprocessing import LabelEncoder\n",
    "encoder = LabelEncoder()\n",
    "encoder.fit(data.주소)\n",
    "data['주소'] = encoder.transform(data.주소)\n",
    "encoder_1 = LabelEncoder()\n",
    "encoder_1.fit(data.등급)\n",
    "data['등급'] = encoder_1.transform(data.등급)"
   ]
  },
  {
   "cell_type": "code",
   "execution_count": 119,
   "id": "fc252377",
   "metadata": {},
   "outputs": [],
   "source": [
    "data['성별'] = data['성별'].apply(lambda x : 1 if x =='남자'  else 0)"
   ]
  },
  {
   "cell_type": "code",
   "execution_count": 120,
   "id": "184d5972",
   "metadata": {},
   "outputs": [
    {
     "data": {
      "text/html": [
       "<div>\n",
       "<style scoped>\n",
       "    .dataframe tbody tr th:only-of-type {\n",
       "        vertical-align: middle;\n",
       "    }\n",
       "\n",
       "    .dataframe tbody tr th {\n",
       "        vertical-align: top;\n",
       "    }\n",
       "\n",
       "    .dataframe thead th {\n",
       "        text-align: right;\n",
       "    }\n",
       "</style>\n",
       "<table border=\"1\" class=\"dataframe\">\n",
       "  <thead>\n",
       "    <tr style=\"text-align: right;\">\n",
       "      <th></th>\n",
       "      <th>아이디</th>\n",
       "      <th>등급</th>\n",
       "      <th>성별</th>\n",
       "      <th>연령</th>\n",
       "      <th>주소</th>\n",
       "      <th>차종count</th>\n",
       "      <th>대여존count</th>\n",
       "      <th>총요금합계</th>\n",
       "      <th>총요금평균</th>\n",
       "      <th>총요금최대</th>\n",
       "      <th>가입후경과일수</th>\n",
       "      <th>최초탑승후경과일수</th>\n",
       "      <th>예약일시count</th>\n",
       "      <th>종료</th>\n",
       "      <th>취소</th>\n",
       "      <th>취소비율</th>\n",
       "      <th>예약시간_총합</th>\n",
       "      <th>예약시간_최대</th>\n",
       "      <th>예약시간_평균</th>\n",
       "      <th>이용시간_총합</th>\n",
       "      <th>이용시간_최대</th>\n",
       "      <th>이용시간_평균</th>\n",
       "      <th>예약대기시간_총합</th>\n",
       "      <th>예약대기시간_최대</th>\n",
       "      <th>예약대기시간_평균</th>\n",
       "      <th>이용거리_총합</th>\n",
       "      <th>이용거리_최대</th>\n",
       "      <th>이용거리_평균</th>\n",
       "      <th>누적이용금액</th>\n",
       "      <th>취소패널티합계</th>\n",
       "      <th>반납지연요금합계</th>\n",
       "      <th>연장요금합계</th>\n",
       "      <th>반납지연률</th>\n",
       "      <th>연장빈도률</th>\n",
       "      <th>쿠폰사용률</th>\n",
       "      <th>주말사용율</th>\n",
       "      <th>사용주기</th>\n",
       "      <th>주사용시간대</th>\n",
       "      <th>타도시방문비율</th>\n",
       "      <th>출퇴근시간대사용비율</th>\n",
       "      <th>휴면여부</th>\n",
       "    </tr>\n",
       "  </thead>\n",
       "  <tbody>\n",
       "    <tr>\n",
       "      <th>0</th>\n",
       "      <td>jjy2837</td>\n",
       "      <td>4</td>\n",
       "      <td>0</td>\n",
       "      <td>48</td>\n",
       "      <td>19</td>\n",
       "      <td>1</td>\n",
       "      <td>2</td>\n",
       "      <td>2131600.0</td>\n",
       "      <td>47369.0</td>\n",
       "      <td>158180.0</td>\n",
       "      <td>1527</td>\n",
       "      <td>723</td>\n",
       "      <td>63</td>\n",
       "      <td>45</td>\n",
       "      <td>18</td>\n",
       "      <td>0.285714</td>\n",
       "      <td>624.833333</td>\n",
       "      <td>48.0</td>\n",
       "      <td>13.885185</td>\n",
       "      <td>583.450000</td>\n",
       "      <td>39.933333</td>\n",
       "      <td>12.965556</td>\n",
       "      <td>3237.500000</td>\n",
       "      <td>668.016667</td>\n",
       "      <td>71.944444</td>\n",
       "      <td>5013.0</td>\n",
       "      <td>398.0</td>\n",
       "      <td>111.400000</td>\n",
       "      <td>3213730.0</td>\n",
       "      <td>0.0</td>\n",
       "      <td>0.0</td>\n",
       "      <td>54560.0</td>\n",
       "      <td>0.0</td>\n",
       "      <td>0.111111</td>\n",
       "      <td>0.288889</td>\n",
       "      <td>0.67</td>\n",
       "      <td>7.0</td>\n",
       "      <td>10.0</td>\n",
       "      <td>0.0</td>\n",
       "      <td>0.377778</td>\n",
       "      <td>0</td>\n",
       "    </tr>\n",
       "    <tr>\n",
       "      <th>1</th>\n",
       "      <td>cholong119</td>\n",
       "      <td>1</td>\n",
       "      <td>0</td>\n",
       "      <td>28</td>\n",
       "      <td>19</td>\n",
       "      <td>1</td>\n",
       "      <td>1</td>\n",
       "      <td>238550.0</td>\n",
       "      <td>59638.0</td>\n",
       "      <td>83080.0</td>\n",
       "      <td>960</td>\n",
       "      <td>759</td>\n",
       "      <td>5</td>\n",
       "      <td>4</td>\n",
       "      <td>1</td>\n",
       "      <td>0.200000</td>\n",
       "      <td>53.500000</td>\n",
       "      <td>21.0</td>\n",
       "      <td>13.375000</td>\n",
       "      <td>50.000000</td>\n",
       "      <td>20.583333</td>\n",
       "      <td>12.500000</td>\n",
       "      <td>21.033333</td>\n",
       "      <td>8.750000</td>\n",
       "      <td>5.258333</td>\n",
       "      <td>493.0</td>\n",
       "      <td>233.0</td>\n",
       "      <td>123.250000</td>\n",
       "      <td>1699735.0</td>\n",
       "      <td>0.0</td>\n",
       "      <td>0.0</td>\n",
       "      <td>18480.0</td>\n",
       "      <td>0.0</td>\n",
       "      <td>0.250000</td>\n",
       "      <td>0.250000</td>\n",
       "      <td>0.50</td>\n",
       "      <td>15.0</td>\n",
       "      <td>22.0</td>\n",
       "      <td>0.0</td>\n",
       "      <td>0.500000</td>\n",
       "      <td>0</td>\n",
       "    </tr>\n",
       "    <tr>\n",
       "      <th>2</th>\n",
       "      <td>youmi0217</td>\n",
       "      <td>5</td>\n",
       "      <td>0</td>\n",
       "      <td>28</td>\n",
       "      <td>34</td>\n",
       "      <td>3</td>\n",
       "      <td>3</td>\n",
       "      <td>3119020.0</td>\n",
       "      <td>28615.0</td>\n",
       "      <td>181560.0</td>\n",
       "      <td>1413</td>\n",
       "      <td>713</td>\n",
       "      <td>116</td>\n",
       "      <td>109</td>\n",
       "      <td>7</td>\n",
       "      <td>0.060345</td>\n",
       "      <td>621.666667</td>\n",
       "      <td>54.0</td>\n",
       "      <td>5.703364</td>\n",
       "      <td>583.716667</td>\n",
       "      <td>54.083333</td>\n",
       "      <td>5.355199</td>\n",
       "      <td>139.916667</td>\n",
       "      <td>36.750000</td>\n",
       "      <td>1.283639</td>\n",
       "      <td>8629.0</td>\n",
       "      <td>511.0</td>\n",
       "      <td>79.165138</td>\n",
       "      <td>4419890.0</td>\n",
       "      <td>5000.0</td>\n",
       "      <td>0.0</td>\n",
       "      <td>287640.0</td>\n",
       "      <td>0.0</td>\n",
       "      <td>0.321101</td>\n",
       "      <td>0.201835</td>\n",
       "      <td>0.35</td>\n",
       "      <td>3.0</td>\n",
       "      <td>22.0</td>\n",
       "      <td>0.0</td>\n",
       "      <td>0.155963</td>\n",
       "      <td>0</td>\n",
       "    </tr>\n",
       "  </tbody>\n",
       "</table>\n",
       "</div>"
      ],
      "text/plain": [
       "          아이디  등급  성별  연령  주소  차종count  대여존count      총요금합계    총요금평균  \\\n",
       "0     jjy2837   4   0  48  19        1         2  2131600.0  47369.0   \n",
       "1  cholong119   1   0  28  19        1         1   238550.0  59638.0   \n",
       "2   youmi0217   5   0  28  34        3         3  3119020.0  28615.0   \n",
       "\n",
       "      총요금최대  가입후경과일수  최초탑승후경과일수  예약일시count   종료  취소      취소비율     예약시간_총합  \\\n",
       "0  158180.0     1527        723         63   45  18  0.285714  624.833333   \n",
       "1   83080.0      960        759          5    4   1  0.200000   53.500000   \n",
       "2  181560.0     1413        713        116  109   7  0.060345  621.666667   \n",
       "\n",
       "   예약시간_최대    예약시간_평균     이용시간_총합    이용시간_최대    이용시간_평균    예약대기시간_총합  \\\n",
       "0     48.0  13.885185  583.450000  39.933333  12.965556  3237.500000   \n",
       "1     21.0  13.375000   50.000000  20.583333  12.500000    21.033333   \n",
       "2     54.0   5.703364  583.716667  54.083333   5.355199   139.916667   \n",
       "\n",
       "    예약대기시간_최대  예약대기시간_평균  이용거리_총합  이용거리_최대     이용거리_평균     누적이용금액  취소패널티합계  \\\n",
       "0  668.016667  71.944444   5013.0    398.0  111.400000  3213730.0      0.0   \n",
       "1    8.750000   5.258333    493.0    233.0  123.250000  1699735.0      0.0   \n",
       "2   36.750000   1.283639   8629.0    511.0   79.165138  4419890.0   5000.0   \n",
       "\n",
       "   반납지연요금합계    연장요금합계  반납지연률     연장빈도률     쿠폰사용률  주말사용율  사용주기  주사용시간대  \\\n",
       "0       0.0   54560.0    0.0  0.111111  0.288889   0.67   7.0    10.0   \n",
       "1       0.0   18480.0    0.0  0.250000  0.250000   0.50  15.0    22.0   \n",
       "2       0.0  287640.0    0.0  0.321101  0.201835   0.35   3.0    22.0   \n",
       "\n",
       "   타도시방문비율  출퇴근시간대사용비율  휴면여부  \n",
       "0      0.0    0.377778     0  \n",
       "1      0.0    0.500000     0  \n",
       "2      0.0    0.155963     0  "
      ]
     },
     "execution_count": 120,
     "metadata": {},
     "output_type": "execute_result"
    }
   ],
   "source": [
    "data.head(3)"
   ]
  },
  {
   "cell_type": "code",
   "execution_count": 121,
   "id": "3b023480",
   "metadata": {},
   "outputs": [],
   "source": [
    "data_id=data.iloc[:,0].reset_index()"
   ]
  },
  {
   "cell_type": "code",
   "execution_count": 122,
   "id": "5cbbab20",
   "metadata": {},
   "outputs": [],
   "source": [
    "X_features = data.iloc[:, 1:-1] \n",
    "y_label = data.iloc[:, -1]"
   ]
  },
  {
   "cell_type": "code",
   "execution_count": 123,
   "id": "597ed454",
   "metadata": {},
   "outputs": [],
   "source": [
    "from sklearn.model_selection import train_test_split\n",
    "train_features, test_features , train_target, test_target = train_test_split(\n",
    "    X_features, y_label, test_size = 0.2, random_state = 2021, stratify=y_label)"
   ]
  },
  {
   "cell_type": "code",
   "execution_count": 124,
   "id": "89372b2b",
   "metadata": {},
   "outputs": [
    {
     "name": "stdout",
     "output_type": "stream",
     "text": [
      "5480\n",
      "5480\n",
      "1370\n",
      "1370\n"
     ]
    }
   ],
   "source": [
    "print(len(train_features))\n",
    "print(len(train_target))\n",
    "\n",
    "print(len(test_features))\n",
    "print(len(test_target))"
   ]
  },
  {
   "cell_type": "code",
   "execution_count": 125,
   "id": "64388468",
   "metadata": {},
   "outputs": [],
   "source": [
    "#불균형 처리\n",
    "from imblearn.over_sampling import SMOTENC\n",
    "smote_nc = SMOTENC(categorical_features=[0, 1, 3, 4], random_state=0)\n",
    "X_resampled, y_resampled = smote_nc.fit_resample(train_features, train_target)"
   ]
  },
  {
   "cell_type": "code",
   "execution_count": 149,
   "id": "4de0544a",
   "metadata": {},
   "outputs": [
    {
     "data": {
      "text/plain": [
       "10716"
      ]
     },
     "execution_count": 149,
     "metadata": {},
     "output_type": "execute_result"
    }
   ],
   "source": [
    "len(X_resampled)"
   ]
  },
  {
   "cell_type": "code",
   "execution_count": 151,
   "id": "c98f2845",
   "metadata": {},
   "outputs": [
    {
     "data": {
      "text/plain": [
       "0    5358\n",
       "1    5358\n",
       "Name: 휴면여부, dtype: int64"
      ]
     },
     "execution_count": 151,
     "metadata": {},
     "output_type": "execute_result"
    }
   ],
   "source": [
    "y_resampled.value_counts()"
   ]
  },
  {
   "cell_type": "code",
   "execution_count": 126,
   "id": "6e786c0d",
   "metadata": {},
   "outputs": [],
   "source": [
    "from sklearn.tree import DecisionTreeClassifier\n",
    "from sklearn.pipeline import make_pipeline\n",
    "pipe_tree = make_pipeline(DecisionTreeClassifier(random_state=2021))"
   ]
  },
  {
   "cell_type": "code",
   "execution_count": 127,
   "id": "f0395760",
   "metadata": {},
   "outputs": [
    {
     "name": "stdout",
     "output_type": "stream",
     "text": [
      "0.9811511420488592\n",
      "{'decisiontreeclassifier__criterion': 'gini', 'decisiontreeclassifier__max_depth': 10, 'decisiontreeclassifier__min_samples_leaf': 10}\n"
     ]
    }
   ],
   "source": [
    "from sklearn.model_selection import GridSearchCV\n",
    "\n",
    "param_range1 = [1,2,3,4,5,6,7,8,9,10]\n",
    "param_range2 = [10, 20, 30, 40, 50]\n",
    "param_range3 = ['gini', 'entropy']\n",
    "\n",
    "param_grid = [{'decisiontreeclassifier__max_depth': param_range1,\n",
    "              'decisiontreeclassifier__min_samples_leaf': param_range2,\n",
    "              'decisiontreeclassifier__criterion': param_range3}]\n",
    "\n",
    "gs = GridSearchCV(estimator = pipe_tree,\n",
    "                 param_grid = param_grid, # 찾고자하는 파라미터. dictionary 형식\n",
    "                 scoring = 'accuracy', #  Classification일때  'accuracy','f1', Regression 일때 'neg_mean_squared_error','r2' 등\n",
    "                 cv=10,\n",
    "                 n_jobs= -1) # 병렬 처리갯수? -1은 전부를 의미\n",
    "\n",
    "gs = gs.fit(X_resampled, y_resampled)\n",
    "\n",
    "print(gs.best_score_)\n",
    "print(gs.best_params_)"
   ]
  },
  {
   "cell_type": "code",
   "execution_count": 128,
   "id": "4cb6a719",
   "metadata": {},
   "outputs": [
    {
     "data": {
      "text/plain": [
       "Pipeline(steps=[('decisiontreeclassifier',\n",
       "                 DecisionTreeClassifier(max_depth=10, min_samples_leaf=10,\n",
       "                                        random_state=2021))])"
      ]
     },
     "execution_count": 128,
     "metadata": {},
     "output_type": "execute_result"
    }
   ],
   "source": [
    "# 최적의 모델 선택\n",
    "\n",
    "best_tree = gs.best_estimator_ # 최적의 파라미터로 모델 생성\n",
    "best_tree.fit(X_resampled, y_resampled)"
   ]
  },
  {
   "cell_type": "code",
   "execution_count": 129,
   "id": "4b8cf3fb",
   "metadata": {},
   "outputs": [],
   "source": [
    "best_tree_for_graph = DecisionTreeClassifier(criterion='gini', max_depth=10, min_samples_leaf=10, random_state = 2021)"
   ]
  },
  {
   "cell_type": "code",
   "execution_count": 130,
   "id": "e1cc6572",
   "metadata": {},
   "outputs": [
    {
     "data": {
      "text/plain": [
       "DecisionTreeClassifier(max_depth=10, min_samples_leaf=10, random_state=2021)"
      ]
     },
     "execution_count": 130,
     "metadata": {},
     "output_type": "execute_result"
    }
   ],
   "source": [
    "best_tree_for_graph.fit(X_resampled, y_resampled)"
   ]
  },
  {
   "cell_type": "code",
   "execution_count": 131,
   "id": "3588a0d1",
   "metadata": {},
   "outputs": [],
   "source": [
    "y_pred = best_tree.predict(test_features)"
   ]
  },
  {
   "cell_type": "code",
   "execution_count": 132,
   "id": "8f94af1b",
   "metadata": {},
   "outputs": [
    {
     "name": "stdout",
     "output_type": "stream",
     "text": [
      "Classification Report\n",
      "              precision    recall  f1-score   support\n",
      "\n",
      "           0       1.00      0.97      0.99      1340\n",
      "           1       0.45      0.97      0.62        30\n",
      "\n",
      "    accuracy                           0.97      1370\n",
      "   macro avg       0.73      0.97      0.80      1370\n",
      "weighted avg       0.99      0.97      0.98      1370\n",
      "\n"
     ]
    }
   ],
   "source": [
    "from sklearn.metrics import classification_report\n",
    "\n",
    "print('Classification Report')\n",
    "print(classification_report(test_target, y_pred))"
   ]
  },
  {
   "cell_type": "code",
   "execution_count": 133,
   "id": "9f208b34",
   "metadata": {},
   "outputs": [
    {
     "name": "stdout",
     "output_type": "stream",
     "text": [
      "정확도 accuracy: 0.974\n",
      "정밀도 precision: 0.453\n",
      "재현율 recall: 0.967\n",
      "F1-score: 0.617\n",
      "AUC: 0.970\n"
     ]
    }
   ],
   "source": [
    "from sklearn.metrics import accuracy_score, precision_score, recall_score, f1_score, roc_auc_score\n",
    "\n",
    "print('정확도 accuracy: %.3f' % accuracy_score(test_target, y_pred))\n",
    "print('정밀도 precision: %.3f' % precision_score(y_true= test_target, y_pred=y_pred))\n",
    "print('재현율 recall: %.3f' % recall_score(y_true=test_target, y_pred=y_pred))\n",
    "print('F1-score: %.3f' % f1_score(y_true=test_target, y_pred=y_pred))\n",
    "print('AUC: %.3f' % roc_auc_score(test_target, y_pred))"
   ]
  },
  {
   "cell_type": "code",
   "execution_count": 135,
   "id": "3a633f24",
   "metadata": {},
   "outputs": [],
   "source": [
    "from sklearn.metrics import roc_curve\n",
    "fper, tper, thresholds = roc_curve(test_target, y_pred)\n"
   ]
  },
  {
   "cell_type": "code",
   "execution_count": 139,
   "id": "f2b2290c",
   "metadata": {},
   "outputs": [
    {
     "data": {
      "text/plain": [
       "array([0.        , 0.96666667, 1.        ])"
      ]
     },
     "execution_count": 139,
     "metadata": {},
     "output_type": "execute_result"
    }
   ],
   "source": [
    "tper"
   ]
  },
  {
   "cell_type": "code",
   "execution_count": 136,
   "id": "3fb60f22",
   "metadata": {},
   "outputs": [],
   "source": [
    "def plot_roc_curve(fper, tper):\n",
    "    plt.plot(fper, tper, color='red', label='ROC')\n",
    "    plt.plot([0, 1], [0, 1], color='green', linestyle='--')\n",
    "    plt.xlabel('False Positive Rate')\n",
    "    plt.ylabel('True Positive Rate')\n",
    "    plt.title('Receiver Operating Characteristic Curve')\n",
    "    plt.legend()\n",
    "    plt.show()"
   ]
  },
  {
   "cell_type": "code",
   "execution_count": 137,
   "id": "a2b70ce3",
   "metadata": {},
   "outputs": [
    {
     "data": {
      "image/png": "[encoded data removed]",
      "text/plain": [
       "<Figure size 432x288 with 1 Axes>"
      ]
     },
     "metadata": {
      "needs_background": "light"
     },
     "output_type": "display_data"
    }
   ],
   "source": [
    "plot_roc_curve(fper, tper)"
   ]
  },
  {
   "cell_type": "code",
   "execution_count": null,
   "id": "a0e927ad",
   "metadata": {},
   "outputs": [],
   "source": []
  },
  {
   "cell_type": "code",
   "execution_count": 134,
   "id": "7897ee0d",
   "metadata": {},
   "outputs": [
    {
     "data": {
      "image/png": "[encoded data removed]",
      "text/plain": [
       "<Figure size 576x432 with 1 Axes>"
      ]
     },
     "metadata": {
      "needs_background": "light"
     },
     "output_type": "display_data"
    }
   ],
   "source": [
    "# Feature Importance\n",
    "import matplotlib.pyplot as plt\n",
    "import seaborn as sns\n",
    "\n",
    "import matplotlib as mpl\n",
    "import matplotlib.font_manager as fm\n",
    "import os\n",
    "if os.name == 'posix': # Mac 환경 폰트 설정\n",
    "    plt.rc('font', family='AppleGothic')\n",
    "elif os.name == 'nt': # Windows 환경 폰트 설정\n",
    "    plt.rc('font', family='Malgun Gothic')\n",
    "\n",
    "plt.rc('axes', unicode_minus=False) # 마이너스 폰트 설정\n",
    "\n",
    "feature_importance_values = best_tree_for_graph.feature_importances_\n",
    "# Top 중요도로 정렬하고, 쉽게 시각화하기 위해 Series 변환\n",
    "feature_importances = pd.Series(feature_importance_values, index=X_resampled.columns)\n",
    "# 중요도값 순으로 Series를 정렬\n",
    "feature_top5 = feature_importances.sort_values(ascending=False)[:10]\n",
    "\n",
    "plt.figure(figsize=[8, 6])\n",
    "plt.title('Feature Importances Top 5')\n",
    "sns.barplot(x=feature_top5, y=feature_top5.index)\n",
    "plt.show()"
   ]
  },
  {
   "cell_type": "code",
   "execution_count": 22,
   "id": "270c78b6",
   "metadata": {},
   "outputs": [],
   "source": [
    "df = pd.read_csv('carsharing_features.csv',index_col = 0)"
   ]
  },
  {
   "cell_type": "code",
   "execution_count": 147,
   "id": "d8d775d4",
   "metadata": {},
   "outputs": [
    {
     "data": {
      "text/plain": [
       "0    6698\n",
       "1     152\n",
       "Name: 휴면여부, dtype: int64"
      ]
     },
     "execution_count": 147,
     "metadata": {},
     "output_type": "execute_result"
    }
   ],
   "source": [
    "df['휴면여부'].value_counts()\n"
   ]
  },
  {
   "cell_type": "code",
   "execution_count": 146,
   "id": "6b805c58",
   "metadata": {},
   "outputs": [
    {
     "data": {
      "text/plain": [
       "([<matplotlib.patches.Wedge at 0x2281dc26dc0>,\n",
       "  <matplotlib.patches.Wedge at 0x2281dc36670>],\n",
       " [Text(-1.0973282662988362, 0.07662033660582927, '0'),\n",
       "  Text(1.0973282627119783, -0.07662038797547231, '1')],\n",
       " [Text(-0.598542690708456, 0.04179291087590687, '97.8'),\n",
       "  Text(0.598542688751988, -0.041792938895712166, '2.2')])"
      ]
     },
     "execution_count": 146,
     "metadata": {},
     "output_type": "execute_result"
    },
    {
     "data": {
      "image/png": "[encoded data removed]",
      "text/plain": [
       "<Figure size 432x288 with 1 Axes>"
      ]
     },
     "metadata": {},
     "output_type": "display_data"
    }
   ],
   "source": [
    "plt.pie(value, labels = labels, shadow = True, autopct = '%.1f')"
   ]
  },
  {
   "cell_type": "code",
   "execution_count": null,
   "id": "8482b2c8",
   "metadata": {},
   "outputs": [],
   "source": []
  },
  {
   "cell_type": "code",
   "execution_count": 89,
   "id": "971f72c8",
   "metadata": {},
   "outputs": [],
   "source": [
    "dff = df.groupby('휴면여부')[['최초탑승후경과일수','사용주기','예약일시count','총요금평균','예약대기시간_평균','연장요금합계','이용시간_평균','쿠폰사용률']].mean()"
   ]
  },
  {
   "cell_type": "code",
   "execution_count": 90,
   "id": "96a6076d",
   "metadata": {},
   "outputs": [
    {
     "data": {
      "text/html": [
       "<div>\n",
       "<style scoped>\n",
       "    .dataframe tbody tr th:only-of-type {\n",
       "        vertical-align: middle;\n",
       "    }\n",
       "\n",
       "    .dataframe tbody tr th {\n",
       "        vertical-align: top;\n",
       "    }\n",
       "\n",
       "    .dataframe thead th {\n",
       "        text-align: right;\n",
       "    }\n",
       "</style>\n",
       "<table border=\"1\" class=\"dataframe\">\n",
       "  <thead>\n",
       "    <tr style=\"text-align: right;\">\n",
       "      <th></th>\n",
       "      <th>최초탑승후경과일수</th>\n",
       "      <th>사용주기</th>\n",
       "      <th>예약일시count</th>\n",
       "      <th>총요금평균</th>\n",
       "      <th>예약대기시간_평균</th>\n",
       "      <th>연장요금합계</th>\n",
       "      <th>이용시간_평균</th>\n",
       "      <th>쿠폰사용률</th>\n",
       "    </tr>\n",
       "    <tr>\n",
       "      <th>휴면여부</th>\n",
       "      <th></th>\n",
       "      <th></th>\n",
       "      <th></th>\n",
       "      <th></th>\n",
       "      <th></th>\n",
       "      <th></th>\n",
       "      <th></th>\n",
       "      <th></th>\n",
       "    </tr>\n",
       "  </thead>\n",
       "  <tbody>\n",
       "    <tr>\n",
       "      <th>0</th>\n",
       "      <td>303.600328</td>\n",
       "      <td>14.293819</td>\n",
       "      <td>11.978202</td>\n",
       "      <td>23278.585697</td>\n",
       "      <td>14.744604</td>\n",
       "      <td>16912.947148</td>\n",
       "      <td>4.514142</td>\n",
       "      <td>0.263337</td>\n",
       "    </tr>\n",
       "    <tr>\n",
       "      <th>1</th>\n",
       "      <td>444.625000</td>\n",
       "      <td>0.631579</td>\n",
       "      <td>1.835526</td>\n",
       "      <td>33333.052632</td>\n",
       "      <td>21.170246</td>\n",
       "      <td>3382.105263</td>\n",
       "      <td>5.501850</td>\n",
       "      <td>0.042763</td>\n",
       "    </tr>\n",
       "  </tbody>\n",
       "</table>\n",
       "</div>"
      ],
      "text/plain": [
       "       최초탑승후경과일수       사용주기  예약일시count         총요금평균  예약대기시간_평균        연장요금합계  \\\n",
       "휴면여부                                                                            \n",
       "0     303.600328  14.293819  11.978202  23278.585697  14.744604  16912.947148   \n",
       "1     444.625000   0.631579   1.835526  33333.052632  21.170246   3382.105263   \n",
       "\n",
       "       이용시간_평균     쿠폰사용률  \n",
       "휴면여부                      \n",
       "0     4.514142  0.263337  \n",
       "1     5.501850  0.042763  "
      ]
     },
     "execution_count": 90,
     "metadata": {},
     "output_type": "execute_result"
    }
   ],
   "source": [
    "dff"
   ]
  },
  {
   "cell_type": "code",
   "execution_count": 107,
   "id": "e5e01f4f",
   "metadata": {},
   "outputs": [
    {
     "data": {
      "text/plain": [
       "(array([0, 1]), [Text(0, 0, '0'), Text(1, 0, '1')])"
      ]
     },
     "execution_count": 107,
     "metadata": {},
     "output_type": "execute_result"
    },
    {
     "data": {
      "image/png": "[encoded data removed]",
      "text/plain": [
       "<Figure size 432x288 with 1 Axes>"
      ]
     },
     "metadata": {
      "needs_background": "light"
     },
     "output_type": "display_data"
    }
   ],
   "source": [
    "dff['최초탑승후경과일수'].plot.bar()\n",
    "plt.title('최초탑승후경과일수')\n",
    "plt.xticks(rotation=0)"
   ]
  },
  {
   "cell_type": "code",
   "execution_count": 108,
   "id": "6d111f6e",
   "metadata": {},
   "outputs": [
    {
     "data": {
      "text/plain": [
       "(array([0, 1]), [Text(0, 0, '0'), Text(1, 0, '1')])"
      ]
     },
     "execution_count": 108,
     "metadata": {},
     "output_type": "execute_result"
    },
    {
     "data": {
      "image/png": "[encoded data removed]",
      "text/plain": [
       "<Figure size 432x288 with 1 Axes>"
      ]
     },
     "metadata": {
      "needs_background": "light"
     },
     "output_type": "display_data"
    }
   ],
   "source": [
    "dff['사용주기'].plot.bar()\n",
    "plt.title('사용주기')\n",
    "plt.xticks(rotation=0)"
   ]
  },
  {
   "cell_type": "code",
   "execution_count": 109,
   "id": "ac97b6a4",
   "metadata": {},
   "outputs": [
    {
     "data": {
      "text/plain": [
       "(array([0, 1]), [Text(0, 0, '0'), Text(1, 0, '1')])"
      ]
     },
     "execution_count": 109,
     "metadata": {},
     "output_type": "execute_result"
    },
    {
     "data": {
      "image/png": "[encoded data removed]",
      "text/plain": [
       "<Figure size 432x288 with 1 Axes>"
      ]
     },
     "metadata": {
      "needs_background": "light"
     },
     "output_type": "display_data"
    }
   ],
   "source": [
    "dff['예약일시count'].plot.bar()\n",
    "plt.title('예약일시count')\n",
    "plt.xticks(rotation=0)"
   ]
  },
  {
   "cell_type": "code",
   "execution_count": 110,
   "id": "02ed53be",
   "metadata": {},
   "outputs": [
    {
     "data": {
      "text/plain": [
       "(array([0, 1]), [Text(0, 0, '0'), Text(1, 0, '1')])"
      ]
     },
     "execution_count": 110,
     "metadata": {},
     "output_type": "execute_result"
    },
    {
     "data": {
      "image/png": "[encoded data removed]",
      "text/plain": [
       "<Figure size 432x288 with 1 Axes>"
      ]
     },
     "metadata": {
      "needs_background": "light"
     },
     "output_type": "display_data"
    }
   ],
   "source": [
    "dff['총요금평균'].plot.bar()\n",
    "plt.title('총요금평균')\n",
    "plt.xticks(rotation=0)"
   ]
  },
  {
   "cell_type": "code",
   "execution_count": 111,
   "id": "15090c4c",
   "metadata": {},
   "outputs": [
    {
     "data": {
      "text/plain": [
       "(array([0, 1]), [Text(0, 0, '0'), Text(1, 0, '1')])"
      ]
     },
     "execution_count": 111,
     "metadata": {},
     "output_type": "execute_result"
    },
    {
     "data": {
      "image/png": "[encoded data removed]",
      "text/plain": [
       "<Figure size 432x288 with 1 Axes>"
      ]
     },
     "metadata": {
      "needs_background": "light"
     },
     "output_type": "display_data"
    }
   ],
   "source": [
    "dff['예약대기시간_평균'].plot.bar()\n",
    "plt.title('예약대기시간_평균')\n",
    "plt.xticks(rotation=0)"
   ]
  },
  {
   "cell_type": "code",
   "execution_count": 112,
   "id": "e979c9c8",
   "metadata": {},
   "outputs": [
    {
     "data": {
      "text/plain": [
       "(array([0, 1]), [Text(0, 0, '0'), Text(1, 0, '1')])"
      ]
     },
     "execution_count": 112,
     "metadata": {},
     "output_type": "execute_result"
    },
    {
     "data": {
      "image/png": "[encoded data removed]",
      "text/plain": [
       "<Figure size 432x288 with 1 Axes>"
      ]
     },
     "metadata": {
      "needs_background": "light"
     },
     "output_type": "display_data"
    }
   ],
   "source": [
    "dff['연장요금합계'].plot.bar()\n",
    "plt.title('연장요금합계')\n",
    "plt.xticks(rotation=0)"
   ]
  },
  {
   "cell_type": "code",
   "execution_count": 113,
   "id": "17631dcc",
   "metadata": {},
   "outputs": [
    {
     "data": {
      "text/plain": [
       "(array([0, 1]), [Text(0, 0, '0'), Text(1, 0, '1')])"
      ]
     },
     "execution_count": 113,
     "metadata": {},
     "output_type": "execute_result"
    },
    {
     "data": {
      "image/png": "[encoded data removed]",
      "text/plain": [
       "<Figure size 432x288 with 1 Axes>"
      ]
     },
     "metadata": {
      "needs_background": "light"
     },
     "output_type": "display_data"
    }
   ],
   "source": [
    "dff['이용시간_평균'].plot.bar()\n",
    "plt.title('이용시간_평균')\n",
    "plt.xticks(rotation=0)"
   ]
  },
  {
   "cell_type": "code",
   "execution_count": 114,
   "id": "4b74683b",
   "metadata": {},
   "outputs": [
    {
     "data": {
      "text/plain": [
       "(array([0, 1]), [Text(0, 0, '0'), Text(1, 0, '1')])"
      ]
     },
     "execution_count": 114,
     "metadata": {},
     "output_type": "execute_result"
    },
    {
     "data": {
      "image/png": "[encoded data removed]",
      "text/plain": [
       "<Figure size 432x288 with 1 Axes>"
      ]
     },
     "metadata": {
      "needs_background": "light"
     },
     "output_type": "display_data"
    }
   ],
   "source": [
    "dff['쿠폰사용률'].plot.bar()\n",
    "plt.title('쿠폰사용률')\n",
    "plt.xticks(rotation=0)"
   ]
  },
  {
   "cell_type": "code",
   "execution_count": null,
   "id": "208f106e",
   "metadata": {},
   "outputs": [],
   "source": []
  },
  {
   "cell_type": "code",
   "execution_count": null,
   "id": "6af9057f",
   "metadata": {},
   "outputs": [],
   "source": []
  },
  {
   "cell_type": "code",
   "execution_count": 25,
   "id": "2daf86b9",
   "metadata": {},
   "outputs": [],
   "source": [
    "df_휴면 = df.query('휴면여부 == 1')"
   ]
  },
  {
   "cell_type": "code",
   "execution_count": 27,
   "id": "71e6bcd7",
   "metadata": {
    "collapsed": true
   },
   "outputs": [
    {
     "data": {
      "text/html": [
       "<div>\n",
       "<style scoped>\n",
       "    .dataframe tbody tr th:only-of-type {\n",
       "        vertical-align: middle;\n",
       "    }\n",
       "\n",
       "    .dataframe tbody tr th {\n",
       "        vertical-align: top;\n",
       "    }\n",
       "\n",
       "    .dataframe thead th {\n",
       "        text-align: right;\n",
       "    }\n",
       "</style>\n",
       "<table border=\"1\" class=\"dataframe\">\n",
       "  <thead>\n",
       "    <tr style=\"text-align: right;\">\n",
       "      <th></th>\n",
       "      <th>아이디</th>\n",
       "      <th>등급</th>\n",
       "      <th>성별</th>\n",
       "      <th>연령</th>\n",
       "      <th>주소</th>\n",
       "      <th>차종count</th>\n",
       "      <th>대여존count</th>\n",
       "      <th>총요금합계</th>\n",
       "      <th>총요금평균</th>\n",
       "      <th>총요금최대</th>\n",
       "      <th>가입후경과일수</th>\n",
       "      <th>최초탑승후경과일수</th>\n",
       "      <th>최근탑승후경과일수</th>\n",
       "      <th>예약일시count</th>\n",
       "      <th>종료</th>\n",
       "      <th>취소</th>\n",
       "      <th>취소비율</th>\n",
       "      <th>예약시간_총합</th>\n",
       "      <th>예약시간_최대</th>\n",
       "      <th>예약시간_평균</th>\n",
       "      <th>이용시간_총합</th>\n",
       "      <th>이용시간_최대</th>\n",
       "      <th>이용시간_평균</th>\n",
       "      <th>예약대기시간_총합</th>\n",
       "      <th>예약대기시간_최대</th>\n",
       "      <th>예약대기시간_평균</th>\n",
       "      <th>이용거리_총합</th>\n",
       "      <th>이용거리_최대</th>\n",
       "      <th>이용거리_평균</th>\n",
       "      <th>누적이용금액</th>\n",
       "      <th>취소패널티합계</th>\n",
       "      <th>반납지연요금합계</th>\n",
       "      <th>연장요금합계</th>\n",
       "      <th>반납지연률</th>\n",
       "      <th>연장빈도률</th>\n",
       "      <th>쿠폰사용률</th>\n",
       "      <th>주말사용율</th>\n",
       "      <th>사용주기</th>\n",
       "      <th>주사용시간대</th>\n",
       "      <th>타도시방문비율</th>\n",
       "      <th>출퇴근시간대사용비율</th>\n",
       "      <th>휴면여부</th>\n",
       "    </tr>\n",
       "  </thead>\n",
       "  <tbody>\n",
       "    <tr>\n",
       "      <th>37</th>\n",
       "      <td>sinattack</td>\n",
       "      <td>GRDA02</td>\n",
       "      <td>남</td>\n",
       "      <td>39</td>\n",
       "      <td>화성</td>\n",
       "      <td>1</td>\n",
       "      <td>1</td>\n",
       "      <td>155190.0</td>\n",
       "      <td>31038.0</td>\n",
       "      <td>88100.0</td>\n",
       "      <td>615</td>\n",
       "      <td>597</td>\n",
       "      <td>387</td>\n",
       "      <td>5</td>\n",
       "      <td>5</td>\n",
       "      <td>0</td>\n",
       "      <td>0.000000</td>\n",
       "      <td>22.333333</td>\n",
       "      <td>10.333333</td>\n",
       "      <td>4.466667</td>\n",
       "      <td>22.533333</td>\n",
       "      <td>10.383333</td>\n",
       "      <td>4.506667</td>\n",
       "      <td>1.050000</td>\n",
       "      <td>0.450000</td>\n",
       "      <td>0.210000</td>\n",
       "      <td>316.0</td>\n",
       "      <td>253.0</td>\n",
       "      <td>63.200000</td>\n",
       "      <td>2177660.0</td>\n",
       "      <td>0.0</td>\n",
       "      <td>0.0</td>\n",
       "      <td>35200.0</td>\n",
       "      <td>0.0</td>\n",
       "      <td>1.0</td>\n",
       "      <td>0.0</td>\n",
       "      <td>0.80</td>\n",
       "      <td>1.0</td>\n",
       "      <td>10.0</td>\n",
       "      <td>0.0</td>\n",
       "      <td>0.4</td>\n",
       "      <td>1</td>\n",
       "    </tr>\n",
       "    <tr>\n",
       "      <th>155</th>\n",
       "      <td>mtssamba</td>\n",
       "      <td>GRDA02</td>\n",
       "      <td>남</td>\n",
       "      <td>31</td>\n",
       "      <td>서울</td>\n",
       "      <td>2</td>\n",
       "      <td>1</td>\n",
       "      <td>176710.0</td>\n",
       "      <td>17671.0</td>\n",
       "      <td>43640.0</td>\n",
       "      <td>427</td>\n",
       "      <td>423</td>\n",
       "      <td>378</td>\n",
       "      <td>10</td>\n",
       "      <td>10</td>\n",
       "      <td>0</td>\n",
       "      <td>0.000000</td>\n",
       "      <td>32.166667</td>\n",
       "      <td>4.666667</td>\n",
       "      <td>3.216667</td>\n",
       "      <td>30.700000</td>\n",
       "      <td>4.466667</td>\n",
       "      <td>3.070000</td>\n",
       "      <td>2.850000</td>\n",
       "      <td>1.300000</td>\n",
       "      <td>0.285000</td>\n",
       "      <td>275.0</td>\n",
       "      <td>152.0</td>\n",
       "      <td>27.500000</td>\n",
       "      <td>251730.0</td>\n",
       "      <td>0.0</td>\n",
       "      <td>0.0</td>\n",
       "      <td>5280.0</td>\n",
       "      <td>0.0</td>\n",
       "      <td>0.3</td>\n",
       "      <td>0.0</td>\n",
       "      <td>0.00</td>\n",
       "      <td>1.0</td>\n",
       "      <td>13.0</td>\n",
       "      <td>0.0</td>\n",
       "      <td>0.2</td>\n",
       "      <td>1</td>\n",
       "    </tr>\n",
       "    <tr>\n",
       "      <th>194</th>\n",
       "      <td>lig82</td>\n",
       "      <td>GRDA02</td>\n",
       "      <td>남</td>\n",
       "      <td>34</td>\n",
       "      <td>하남</td>\n",
       "      <td>1</td>\n",
       "      <td>1</td>\n",
       "      <td>171250.0</td>\n",
       "      <td>11417.0</td>\n",
       "      <td>38840.0</td>\n",
       "      <td>404</td>\n",
       "      <td>398</td>\n",
       "      <td>370</td>\n",
       "      <td>15</td>\n",
       "      <td>15</td>\n",
       "      <td>0</td>\n",
       "      <td>0.000000</td>\n",
       "      <td>39.166667</td>\n",
       "      <td>7.000000</td>\n",
       "      <td>2.611111</td>\n",
       "      <td>39.200000</td>\n",
       "      <td>7.000000</td>\n",
       "      <td>2.613333</td>\n",
       "      <td>1.550000</td>\n",
       "      <td>0.300000</td>\n",
       "      <td>0.103333</td>\n",
       "      <td>140.0</td>\n",
       "      <td>38.0</td>\n",
       "      <td>9.333333</td>\n",
       "      <td>223690.0</td>\n",
       "      <td>0.0</td>\n",
       "      <td>0.0</td>\n",
       "      <td>14960.0</td>\n",
       "      <td>0.0</td>\n",
       "      <td>0.2</td>\n",
       "      <td>0.0</td>\n",
       "      <td>0.07</td>\n",
       "      <td>1.0</td>\n",
       "      <td>4.0</td>\n",
       "      <td>0.0</td>\n",
       "      <td>0.2</td>\n",
       "      <td>1</td>\n",
       "    </tr>\n",
       "    <tr>\n",
       "      <th>530</th>\n",
       "      <td>4694</td>\n",
       "      <td>GRDA02</td>\n",
       "      <td>남</td>\n",
       "      <td>49</td>\n",
       "      <td>수원</td>\n",
       "      <td>1</td>\n",
       "      <td>1</td>\n",
       "      <td>2270.0</td>\n",
       "      <td>1135.0</td>\n",
       "      <td>2270.0</td>\n",
       "      <td>451</td>\n",
       "      <td>386</td>\n",
       "      <td>382</td>\n",
       "      <td>2</td>\n",
       "      <td>2</td>\n",
       "      <td>0</td>\n",
       "      <td>0.000000</td>\n",
       "      <td>1.500000</td>\n",
       "      <td>1.000000</td>\n",
       "      <td>0.750000</td>\n",
       "      <td>1.400000</td>\n",
       "      <td>1.000000</td>\n",
       "      <td>0.700000</td>\n",
       "      <td>0.100000</td>\n",
       "      <td>0.066667</td>\n",
       "      <td>0.050000</td>\n",
       "      <td>2.0</td>\n",
       "      <td>2.0</td>\n",
       "      <td>1.000000</td>\n",
       "      <td>2270.0</td>\n",
       "      <td>0.0</td>\n",
       "      <td>0.0</td>\n",
       "      <td>0.0</td>\n",
       "      <td>0.0</td>\n",
       "      <td>0.0</td>\n",
       "      <td>0.0</td>\n",
       "      <td>0.00</td>\n",
       "      <td>1.0</td>\n",
       "      <td>9.0</td>\n",
       "      <td>0.0</td>\n",
       "      <td>1.0</td>\n",
       "      <td>1</td>\n",
       "    </tr>\n",
       "    <tr>\n",
       "      <th>537</th>\n",
       "      <td>josefina3</td>\n",
       "      <td>GRDA02</td>\n",
       "      <td>여</td>\n",
       "      <td>44</td>\n",
       "      <td>고양</td>\n",
       "      <td>1</td>\n",
       "      <td>2</td>\n",
       "      <td>146860.0</td>\n",
       "      <td>73430.0</td>\n",
       "      <td>108460.0</td>\n",
       "      <td>386</td>\n",
       "      <td>386</td>\n",
       "      <td>382</td>\n",
       "      <td>2</td>\n",
       "      <td>2</td>\n",
       "      <td>0</td>\n",
       "      <td>0.000000</td>\n",
       "      <td>19.666667</td>\n",
       "      <td>14.500000</td>\n",
       "      <td>9.833333</td>\n",
       "      <td>19.450000</td>\n",
       "      <td>14.216667</td>\n",
       "      <td>9.725000</td>\n",
       "      <td>4.300000</td>\n",
       "      <td>4.050000</td>\n",
       "      <td>2.150000</td>\n",
       "      <td>169.0</td>\n",
       "      <td>117.0</td>\n",
       "      <td>84.500000</td>\n",
       "      <td>146860.0</td>\n",
       "      <td>0.0</td>\n",
       "      <td>0.0</td>\n",
       "      <td>55020.0</td>\n",
       "      <td>0.0</td>\n",
       "      <td>1.0</td>\n",
       "      <td>0.0</td>\n",
       "      <td>0.00</td>\n",
       "      <td>1.0</td>\n",
       "      <td>10.0</td>\n",
       "      <td>0.0</td>\n",
       "      <td>0.5</td>\n",
       "      <td>1</td>\n",
       "    </tr>\n",
       "    <tr>\n",
       "      <th>619</th>\n",
       "      <td>kih523</td>\n",
       "      <td>GRDA02</td>\n",
       "      <td>여</td>\n",
       "      <td>35</td>\n",
       "      <td>남양주</td>\n",
       "      <td>1</td>\n",
       "      <td>1</td>\n",
       "      <td>203790.0</td>\n",
       "      <td>40758.0</td>\n",
       "      <td>50750.0</td>\n",
       "      <td>385</td>\n",
       "      <td>384</td>\n",
       "      <td>377</td>\n",
       "      <td>9</td>\n",
       "      <td>5</td>\n",
       "      <td>4</td>\n",
       "      <td>0.444444</td>\n",
       "      <td>56.500000</td>\n",
       "      <td>17.000000</td>\n",
       "      <td>11.300000</td>\n",
       "      <td>54.166667</td>\n",
       "      <td>17.133333</td>\n",
       "      <td>10.833333</td>\n",
       "      <td>66.516667</td>\n",
       "      <td>22.800000</td>\n",
       "      <td>13.303333</td>\n",
       "      <td>361.0</td>\n",
       "      <td>121.0</td>\n",
       "      <td>72.200000</td>\n",
       "      <td>203790.0</td>\n",
       "      <td>0.0</td>\n",
       "      <td>0.0</td>\n",
       "      <td>7920.0</td>\n",
       "      <td>0.0</td>\n",
       "      <td>0.2</td>\n",
       "      <td>0.0</td>\n",
       "      <td>0.00</td>\n",
       "      <td>1.0</td>\n",
       "      <td>6.0</td>\n",
       "      <td>0.0</td>\n",
       "      <td>0.6</td>\n",
       "      <td>1</td>\n",
       "    </tr>\n",
       "    <tr>\n",
       "      <th>667</th>\n",
       "      <td>wndduf0212</td>\n",
       "      <td>GRDA02</td>\n",
       "      <td>남</td>\n",
       "      <td>27</td>\n",
       "      <td>서울</td>\n",
       "      <td>1</td>\n",
       "      <td>1</td>\n",
       "      <td>48370.0</td>\n",
       "      <td>24185.0</td>\n",
       "      <td>29510.0</td>\n",
       "      <td>383</td>\n",
       "      <td>383</td>\n",
       "      <td>380</td>\n",
       "      <td>2</td>\n",
       "      <td>2</td>\n",
       "      <td>0</td>\n",
       "      <td>0.000000</td>\n",
       "      <td>7.666667</td>\n",
       "      <td>4.500000</td>\n",
       "      <td>3.833333</td>\n",
       "      <td>7.300000</td>\n",
       "      <td>4.200000</td>\n",
       "      <td>3.650000</td>\n",
       "      <td>0.266667</td>\n",
       "      <td>0.183333</td>\n",
       "      <td>0.133333</td>\n",
       "      <td>105.0</td>\n",
       "      <td>54.0</td>\n",
       "      <td>52.500000</td>\n",
       "      <td>48370.0</td>\n",
       "      <td>0.0</td>\n",
       "      <td>0.0</td>\n",
       "      <td>0.0</td>\n",
       "      <td>0.0</td>\n",
       "      <td>0.0</td>\n",
       "      <td>0.0</td>\n",
       "      <td>0.50</td>\n",
       "      <td>1.0</td>\n",
       "      <td>15.0</td>\n",
       "      <td>0.0</td>\n",
       "      <td>0.5</td>\n",
       "      <td>1</td>\n",
       "    </tr>\n",
       "    <tr>\n",
       "      <th>1038</th>\n",
       "      <td>bhlee746</td>\n",
       "      <td>GRDA02</td>\n",
       "      <td>남</td>\n",
       "      <td>55</td>\n",
       "      <td>성남</td>\n",
       "      <td>1</td>\n",
       "      <td>1</td>\n",
       "      <td>44840.0</td>\n",
       "      <td>22420.0</td>\n",
       "      <td>36560.0</td>\n",
       "      <td>1544</td>\n",
       "      <td>742</td>\n",
       "      <td>367</td>\n",
       "      <td>2</td>\n",
       "      <td>2</td>\n",
       "      <td>0</td>\n",
       "      <td>0.000000</td>\n",
       "      <td>8.000000</td>\n",
       "      <td>6.000000</td>\n",
       "      <td>4.000000</td>\n",
       "      <td>7.716667</td>\n",
       "      <td>5.750000</td>\n",
       "      <td>3.858333</td>\n",
       "      <td>419.850000</td>\n",
       "      <td>403.750000</td>\n",
       "      <td>209.925000</td>\n",
       "      <td>66.0</td>\n",
       "      <td>58.0</td>\n",
       "      <td>33.000000</td>\n",
       "      <td>134320.0</td>\n",
       "      <td>0.0</td>\n",
       "      <td>0.0</td>\n",
       "      <td>0.0</td>\n",
       "      <td>0.0</td>\n",
       "      <td>0.0</td>\n",
       "      <td>0.0</td>\n",
       "      <td>0.50</td>\n",
       "      <td>1.0</td>\n",
       "      <td>13.0</td>\n",
       "      <td>0.0</td>\n",
       "      <td>0.0</td>\n",
       "      <td>1</td>\n",
       "    </tr>\n",
       "    <tr>\n",
       "      <th>1121</th>\n",
       "      <td>bsh0129</td>\n",
       "      <td>GRDA02</td>\n",
       "      <td>여</td>\n",
       "      <td>40</td>\n",
       "      <td>화성</td>\n",
       "      <td>1</td>\n",
       "      <td>1</td>\n",
       "      <td>107390.0</td>\n",
       "      <td>53695.0</td>\n",
       "      <td>58460.0</td>\n",
       "      <td>1223</td>\n",
       "      <td>519</td>\n",
       "      <td>366</td>\n",
       "      <td>2</td>\n",
       "      <td>2</td>\n",
       "      <td>0</td>\n",
       "      <td>0.000000</td>\n",
       "      <td>10.000000</td>\n",
       "      <td>6.000000</td>\n",
       "      <td>5.000000</td>\n",
       "      <td>9.883333</td>\n",
       "      <td>5.966667</td>\n",
       "      <td>4.941667</td>\n",
       "      <td>4.966667</td>\n",
       "      <td>3.766667</td>\n",
       "      <td>2.483333</td>\n",
       "      <td>399.0</td>\n",
       "      <td>204.0</td>\n",
       "      <td>199.500000</td>\n",
       "      <td>343800.0</td>\n",
       "      <td>0.0</td>\n",
       "      <td>0.0</td>\n",
       "      <td>0.0</td>\n",
       "      <td>0.0</td>\n",
       "      <td>0.0</td>\n",
       "      <td>0.0</td>\n",
       "      <td>0.50</td>\n",
       "      <td>1.0</td>\n",
       "      <td>13.0</td>\n",
       "      <td>0.0</td>\n",
       "      <td>0.5</td>\n",
       "      <td>1</td>\n",
       "    </tr>\n",
       "    <tr>\n",
       "      <th>1130</th>\n",
       "      <td>kgtto123</td>\n",
       "      <td>GRDA02</td>\n",
       "      <td>여</td>\n",
       "      <td>43</td>\n",
       "      <td>파주</td>\n",
       "      <td>1</td>\n",
       "      <td>2</td>\n",
       "      <td>248550.0</td>\n",
       "      <td>124275.0</td>\n",
       "      <td>168830.0</td>\n",
       "      <td>539</td>\n",
       "      <td>502</td>\n",
       "      <td>366</td>\n",
       "      <td>3</td>\n",
       "      <td>2</td>\n",
       "      <td>1</td>\n",
       "      <td>0.333333</td>\n",
       "      <td>73.000000</td>\n",
       "      <td>48.000000</td>\n",
       "      <td>36.500000</td>\n",
       "      <td>72.966667</td>\n",
       "      <td>47.900000</td>\n",
       "      <td>36.483333</td>\n",
       "      <td>73.083333</td>\n",
       "      <td>70.416667</td>\n",
       "      <td>36.541667</td>\n",
       "      <td>637.0</td>\n",
       "      <td>469.0</td>\n",
       "      <td>318.500000</td>\n",
       "      <td>432940.0</td>\n",
       "      <td>0.0</td>\n",
       "      <td>0.0</td>\n",
       "      <td>5280.0</td>\n",
       "      <td>0.0</td>\n",
       "      <td>0.5</td>\n",
       "      <td>0.0</td>\n",
       "      <td>0.50</td>\n",
       "      <td>1.0</td>\n",
       "      <td>15.0</td>\n",
       "      <td>0.0</td>\n",
       "      <td>0.0</td>\n",
       "      <td>1</td>\n",
       "    </tr>\n",
       "  </tbody>\n",
       "</table>\n",
       "</div>"
      ],
      "text/plain": [
       "             아이디      등급 성별  연령   주소  차종count  대여존count     총요금합계     총요금평균  \\\n",
       "37     sinattack  GRDA02  남  39   화성        1         1  155190.0   31038.0   \n",
       "155     mtssamba  GRDA02  남  31   서울        2         1  176710.0   17671.0   \n",
       "194        lig82  GRDA02  남  34   하남        1         1  171250.0   11417.0   \n",
       "530         4694  GRDA02  남  49   수원        1         1    2270.0    1135.0   \n",
       "537    josefina3  GRDA02  여  44   고양        1         2  146860.0   73430.0   \n",
       "619       kih523  GRDA02  여  35  남양주        1         1  203790.0   40758.0   \n",
       "667   wndduf0212  GRDA02  남  27   서울        1         1   48370.0   24185.0   \n",
       "1038    bhlee746  GRDA02  남  55   성남        1         1   44840.0   22420.0   \n",
       "1121     bsh0129  GRDA02  여  40   화성        1         1  107390.0   53695.0   \n",
       "1130    kgtto123  GRDA02  여  43   파주        1         2  248550.0  124275.0   \n",
       "\n",
       "         총요금최대  가입후경과일수  최초탑승후경과일수  최근탑승후경과일수  예약일시count  종료  취소      취소비율  \\\n",
       "37     88100.0      615        597        387          5   5   0  0.000000   \n",
       "155    43640.0      427        423        378         10  10   0  0.000000   \n",
       "194    38840.0      404        398        370         15  15   0  0.000000   \n",
       "530     2270.0      451        386        382          2   2   0  0.000000   \n",
       "537   108460.0      386        386        382          2   2   0  0.000000   \n",
       "619    50750.0      385        384        377          9   5   4  0.444444   \n",
       "667    29510.0      383        383        380          2   2   0  0.000000   \n",
       "1038   36560.0     1544        742        367          2   2   0  0.000000   \n",
       "1121   58460.0     1223        519        366          2   2   0  0.000000   \n",
       "1130  168830.0      539        502        366          3   2   1  0.333333   \n",
       "\n",
       "        예약시간_총합    예약시간_최대    예약시간_평균    이용시간_총합    이용시간_최대    이용시간_평균  \\\n",
       "37    22.333333  10.333333   4.466667  22.533333  10.383333   4.506667   \n",
       "155   32.166667   4.666667   3.216667  30.700000   4.466667   3.070000   \n",
       "194   39.166667   7.000000   2.611111  39.200000   7.000000   2.613333   \n",
       "530    1.500000   1.000000   0.750000   1.400000   1.000000   0.700000   \n",
       "537   19.666667  14.500000   9.833333  19.450000  14.216667   9.725000   \n",
       "619   56.500000  17.000000  11.300000  54.166667  17.133333  10.833333   \n",
       "667    7.666667   4.500000   3.833333   7.300000   4.200000   3.650000   \n",
       "1038   8.000000   6.000000   4.000000   7.716667   5.750000   3.858333   \n",
       "1121  10.000000   6.000000   5.000000   9.883333   5.966667   4.941667   \n",
       "1130  73.000000  48.000000  36.500000  72.966667  47.900000  36.483333   \n",
       "\n",
       "       예약대기시간_총합   예약대기시간_최대   예약대기시간_평균  이용거리_총합  이용거리_최대     이용거리_평균  \\\n",
       "37      1.050000    0.450000    0.210000    316.0    253.0   63.200000   \n",
       "155     2.850000    1.300000    0.285000    275.0    152.0   27.500000   \n",
       "194     1.550000    0.300000    0.103333    140.0     38.0    9.333333   \n",
       "530     0.100000    0.066667    0.050000      2.0      2.0    1.000000   \n",
       "537     4.300000    4.050000    2.150000    169.0    117.0   84.500000   \n",
       "619    66.516667   22.800000   13.303333    361.0    121.0   72.200000   \n",
       "667     0.266667    0.183333    0.133333    105.0     54.0   52.500000   \n",
       "1038  419.850000  403.750000  209.925000     66.0     58.0   33.000000   \n",
       "1121    4.966667    3.766667    2.483333    399.0    204.0  199.500000   \n",
       "1130   73.083333   70.416667   36.541667    637.0    469.0  318.500000   \n",
       "\n",
       "         누적이용금액  취소패널티합계  반납지연요금합계   연장요금합계  반납지연률  연장빈도률  쿠폰사용률  주말사용율  사용주기  \\\n",
       "37    2177660.0      0.0       0.0  35200.0    0.0    1.0    0.0   0.80   1.0   \n",
       "155    251730.0      0.0       0.0   5280.0    0.0    0.3    0.0   0.00   1.0   \n",
       "194    223690.0      0.0       0.0  14960.0    0.0    0.2    0.0   0.07   1.0   \n",
       "530      2270.0      0.0       0.0      0.0    0.0    0.0    0.0   0.00   1.0   \n",
       "537    146860.0      0.0       0.0  55020.0    0.0    1.0    0.0   0.00   1.0   \n",
       "619    203790.0      0.0       0.0   7920.0    0.0    0.2    0.0   0.00   1.0   \n",
       "667     48370.0      0.0       0.0      0.0    0.0    0.0    0.0   0.50   1.0   \n",
       "1038   134320.0      0.0       0.0      0.0    0.0    0.0    0.0   0.50   1.0   \n",
       "1121   343800.0      0.0       0.0      0.0    0.0    0.0    0.0   0.50   1.0   \n",
       "1130   432940.0      0.0       0.0   5280.0    0.0    0.5    0.0   0.50   1.0   \n",
       "\n",
       "      주사용시간대  타도시방문비율  출퇴근시간대사용비율  휴면여부  \n",
       "37      10.0      0.0         0.4     1  \n",
       "155     13.0      0.0         0.2     1  \n",
       "194      4.0      0.0         0.2     1  \n",
       "530      9.0      0.0         1.0     1  \n",
       "537     10.0      0.0         0.5     1  \n",
       "619      6.0      0.0         0.6     1  \n",
       "667     15.0      0.0         0.5     1  \n",
       "1038    13.0      0.0         0.0     1  \n",
       "1121    13.0      0.0         0.5     1  \n",
       "1130    15.0      0.0         0.0     1  "
      ]
     },
     "execution_count": 27,
     "metadata": {},
     "output_type": "execute_result"
    }
   ],
   "source": [
    "df_휴면[df_휴면['사용주기']==1]"
   ]
  },
  {
   "cell_type": "code",
   "execution_count": 52,
   "id": "bb8eea7a",
   "metadata": {},
   "outputs": [],
   "source": [
    "df_휴면x = df.query('휴면여부 == 0')\n",
    "df_고객 = df_휴면x.query('최초탑승후경과일수 > 444')"
   ]
  },
  {
   "cell_type": "code",
   "execution_count": 34,
   "id": "723a5792",
   "metadata": {},
   "outputs": [],
   "source": [
    "df_이탈예상 = df_고객.query('사용주기 == 0')"
   ]
  },
  {
   "cell_type": "code",
   "execution_count": 36,
   "id": "be5ddc7f",
   "metadata": {},
   "outputs": [
    {
     "data": {
      "text/plain": [
       "사용주기\n",
       "0.0      2325\n",
       "1.0       169\n",
       "2.0       201\n",
       "3.0       219\n",
       "4.0       182\n",
       "         ... \n",
       "151.0       1\n",
       "154.0       1\n",
       "177.0       1\n",
       "179.0       1\n",
       "184.0       1\n",
       "Name: 아이디, Length: 137, dtype: int64"
      ]
     },
     "execution_count": 36,
     "metadata": {},
     "output_type": "execute_result"
    }
   ],
   "source": [
    "df.groupby('사용주기')['아이디'].count()"
   ]
  },
  {
   "cell_type": "code",
   "execution_count": 38,
   "id": "82084937",
   "metadata": {},
   "outputs": [
    {
     "data": {
      "text/plain": [
       "631475.0240793201"
      ]
     },
     "execution_count": 38,
     "metadata": {},
     "output_type": "execute_result"
    }
   ],
   "source": [
    "df_고객['누적이용금액'].mean()"
   ]
  },
  {
   "cell_type": "code",
   "execution_count": 40,
   "id": "57562a24",
   "metadata": {},
   "outputs": [
    {
     "data": {
      "text/plain": [
       "111163.48684210527"
      ]
     },
     "execution_count": 40,
     "metadata": {},
     "output_type": "execute_result"
    }
   ],
   "source": [
    "df_휴면['누적이용금액'].mean()"
   ]
  },
  {
   "cell_type": "code",
   "execution_count": 42,
   "id": "4c96c3d7",
   "metadata": {},
   "outputs": [
    {
     "name": "stdout",
     "output_type": "stream",
     "text": [
      "20.771246458923514\n",
      "0.631578947368421\n"
     ]
    }
   ],
   "source": [
    "print(df_고객['사용주기'].mean())\n",
    "print(df_휴면['사용주기'].mean())"
   ]
  },
  {
   "cell_type": "code",
   "execution_count": 43,
   "id": "93a6405d",
   "metadata": {},
   "outputs": [
    {
     "name": "stdout",
     "output_type": "stream",
     "text": [
      "22.672804532577903\n",
      "1.8355263157894737\n"
     ]
    }
   ],
   "source": [
    "print(df_고객['예약일시count'].mean())\n",
    "print(df_휴면['예약일시count'].mean())"
   ]
  },
  {
   "cell_type": "code",
   "execution_count": 44,
   "id": "da542a37",
   "metadata": {
    "scrolled": true
   },
   "outputs": [
    {
     "data": {
      "text/html": [
       "<div>\n",
       "<style scoped>\n",
       "    .dataframe tbody tr th:only-of-type {\n",
       "        vertical-align: middle;\n",
       "    }\n",
       "\n",
       "    .dataframe tbody tr th {\n",
       "        vertical-align: top;\n",
       "    }\n",
       "\n",
       "    .dataframe thead th {\n",
       "        text-align: right;\n",
       "    }\n",
       "</style>\n",
       "<table border=\"1\" class=\"dataframe\">\n",
       "  <thead>\n",
       "    <tr style=\"text-align: right;\">\n",
       "      <th></th>\n",
       "      <th>아이디</th>\n",
       "      <th>등급</th>\n",
       "      <th>성별</th>\n",
       "      <th>연령</th>\n",
       "      <th>주소</th>\n",
       "      <th>차종count</th>\n",
       "      <th>대여존count</th>\n",
       "      <th>총요금합계</th>\n",
       "      <th>총요금평균</th>\n",
       "      <th>총요금최대</th>\n",
       "      <th>가입후경과일수</th>\n",
       "      <th>최초탑승후경과일수</th>\n",
       "      <th>최근탑승후경과일수</th>\n",
       "      <th>예약일시count</th>\n",
       "      <th>종료</th>\n",
       "      <th>취소</th>\n",
       "      <th>취소비율</th>\n",
       "      <th>예약시간_총합</th>\n",
       "      <th>예약시간_최대</th>\n",
       "      <th>예약시간_평균</th>\n",
       "      <th>이용시간_총합</th>\n",
       "      <th>이용시간_최대</th>\n",
       "      <th>이용시간_평균</th>\n",
       "      <th>예약대기시간_총합</th>\n",
       "      <th>예약대기시간_최대</th>\n",
       "      <th>예약대기시간_평균</th>\n",
       "      <th>이용거리_총합</th>\n",
       "      <th>이용거리_최대</th>\n",
       "      <th>이용거리_평균</th>\n",
       "      <th>누적이용금액</th>\n",
       "      <th>취소패널티합계</th>\n",
       "      <th>반납지연요금합계</th>\n",
       "      <th>연장요금합계</th>\n",
       "      <th>반납지연률</th>\n",
       "      <th>연장빈도률</th>\n",
       "      <th>쿠폰사용률</th>\n",
       "      <th>주말사용율</th>\n",
       "      <th>사용주기</th>\n",
       "      <th>주사용시간대</th>\n",
       "      <th>타도시방문비율</th>\n",
       "      <th>출퇴근시간대사용비율</th>\n",
       "      <th>휴면여부</th>\n",
       "    </tr>\n",
       "  </thead>\n",
       "  <tbody>\n",
       "    <tr>\n",
       "      <th>0</th>\n",
       "      <td>jjy2837</td>\n",
       "      <td>GRDA05</td>\n",
       "      <td>남</td>\n",
       "      <td>48</td>\n",
       "      <td>서울</td>\n",
       "      <td>1</td>\n",
       "      <td>2</td>\n",
       "      <td>2131600.0</td>\n",
       "      <td>47369.0</td>\n",
       "      <td>158180.0</td>\n",
       "      <td>1527</td>\n",
       "      <td>723</td>\n",
       "      <td>17</td>\n",
       "      <td>63</td>\n",
       "      <td>45</td>\n",
       "      <td>18</td>\n",
       "      <td>0.285714</td>\n",
       "      <td>624.833333</td>\n",
       "      <td>48.000000</td>\n",
       "      <td>13.885185</td>\n",
       "      <td>583.450000</td>\n",
       "      <td>39.933333</td>\n",
       "      <td>12.965556</td>\n",
       "      <td>3237.500000</td>\n",
       "      <td>668.016667</td>\n",
       "      <td>71.944444</td>\n",
       "      <td>5013.0</td>\n",
       "      <td>398.0</td>\n",
       "      <td>111.400000</td>\n",
       "      <td>3213730.0</td>\n",
       "      <td>0.0</td>\n",
       "      <td>0.0</td>\n",
       "      <td>54560.0</td>\n",
       "      <td>0.000</td>\n",
       "      <td>0.111111</td>\n",
       "      <td>0.288889</td>\n",
       "      <td>0.67</td>\n",
       "      <td>7.0</td>\n",
       "      <td>10.0</td>\n",
       "      <td>0.0</td>\n",
       "      <td>0.377778</td>\n",
       "      <td>0</td>\n",
       "    </tr>\n",
       "    <tr>\n",
       "      <th>1</th>\n",
       "      <td>cholong119</td>\n",
       "      <td>GRDA02</td>\n",
       "      <td>여</td>\n",
       "      <td>28</td>\n",
       "      <td>서울</td>\n",
       "      <td>1</td>\n",
       "      <td>1</td>\n",
       "      <td>238550.0</td>\n",
       "      <td>59638.0</td>\n",
       "      <td>83080.0</td>\n",
       "      <td>960</td>\n",
       "      <td>759</td>\n",
       "      <td>296</td>\n",
       "      <td>5</td>\n",
       "      <td>4</td>\n",
       "      <td>1</td>\n",
       "      <td>0.200000</td>\n",
       "      <td>53.500000</td>\n",
       "      <td>21.000000</td>\n",
       "      <td>13.375000</td>\n",
       "      <td>50.000000</td>\n",
       "      <td>20.583333</td>\n",
       "      <td>12.500000</td>\n",
       "      <td>21.033333</td>\n",
       "      <td>8.750000</td>\n",
       "      <td>5.258333</td>\n",
       "      <td>493.0</td>\n",
       "      <td>233.0</td>\n",
       "      <td>123.250000</td>\n",
       "      <td>1699735.0</td>\n",
       "      <td>0.0</td>\n",
       "      <td>0.0</td>\n",
       "      <td>18480.0</td>\n",
       "      <td>0.000</td>\n",
       "      <td>0.250000</td>\n",
       "      <td>0.250000</td>\n",
       "      <td>0.50</td>\n",
       "      <td>15.0</td>\n",
       "      <td>22.0</td>\n",
       "      <td>0.0</td>\n",
       "      <td>0.500000</td>\n",
       "      <td>0</td>\n",
       "    </tr>\n",
       "    <tr>\n",
       "      <th>2</th>\n",
       "      <td>youmi0217</td>\n",
       "      <td>GRDA06</td>\n",
       "      <td>여</td>\n",
       "      <td>28</td>\n",
       "      <td>인천</td>\n",
       "      <td>3</td>\n",
       "      <td>3</td>\n",
       "      <td>3119020.0</td>\n",
       "      <td>28615.0</td>\n",
       "      <td>181560.0</td>\n",
       "      <td>1413</td>\n",
       "      <td>713</td>\n",
       "      <td>23</td>\n",
       "      <td>116</td>\n",
       "      <td>109</td>\n",
       "      <td>7</td>\n",
       "      <td>0.060345</td>\n",
       "      <td>621.666667</td>\n",
       "      <td>54.000000</td>\n",
       "      <td>5.703364</td>\n",
       "      <td>583.716667</td>\n",
       "      <td>54.083333</td>\n",
       "      <td>5.355199</td>\n",
       "      <td>139.916667</td>\n",
       "      <td>36.750000</td>\n",
       "      <td>1.283639</td>\n",
       "      <td>8629.0</td>\n",
       "      <td>511.0</td>\n",
       "      <td>79.165138</td>\n",
       "      <td>4419890.0</td>\n",
       "      <td>5000.0</td>\n",
       "      <td>0.0</td>\n",
       "      <td>287640.0</td>\n",
       "      <td>0.000</td>\n",
       "      <td>0.321101</td>\n",
       "      <td>0.201835</td>\n",
       "      <td>0.35</td>\n",
       "      <td>3.0</td>\n",
       "      <td>22.0</td>\n",
       "      <td>0.0</td>\n",
       "      <td>0.155963</td>\n",
       "      <td>0</td>\n",
       "    </tr>\n",
       "    <tr>\n",
       "      <th>3</th>\n",
       "      <td>yunseo1115</td>\n",
       "      <td>GRDA02</td>\n",
       "      <td>여</td>\n",
       "      <td>33</td>\n",
       "      <td>평택</td>\n",
       "      <td>1</td>\n",
       "      <td>1</td>\n",
       "      <td>242480.0</td>\n",
       "      <td>22044.0</td>\n",
       "      <td>48900.0</td>\n",
       "      <td>406</td>\n",
       "      <td>394</td>\n",
       "      <td>360</td>\n",
       "      <td>13</td>\n",
       "      <td>11</td>\n",
       "      <td>2</td>\n",
       "      <td>0.153846</td>\n",
       "      <td>34.166667</td>\n",
       "      <td>7.500000</td>\n",
       "      <td>3.106061</td>\n",
       "      <td>34.266667</td>\n",
       "      <td>7.400000</td>\n",
       "      <td>3.115152</td>\n",
       "      <td>18.916667</td>\n",
       "      <td>15.400000</td>\n",
       "      <td>1.719697</td>\n",
       "      <td>632.0</td>\n",
       "      <td>124.0</td>\n",
       "      <td>57.454545</td>\n",
       "      <td>242480.0</td>\n",
       "      <td>0.0</td>\n",
       "      <td>0.0</td>\n",
       "      <td>26400.0</td>\n",
       "      <td>0.000</td>\n",
       "      <td>0.181818</td>\n",
       "      <td>0.000000</td>\n",
       "      <td>0.45</td>\n",
       "      <td>3.0</td>\n",
       "      <td>1.0</td>\n",
       "      <td>0.0</td>\n",
       "      <td>0.181818</td>\n",
       "      <td>0</td>\n",
       "    </tr>\n",
       "    <tr>\n",
       "      <th>4</th>\n",
       "      <td>campos2</td>\n",
       "      <td>GRDA02</td>\n",
       "      <td>여</td>\n",
       "      <td>33</td>\n",
       "      <td>남양주</td>\n",
       "      <td>1</td>\n",
       "      <td>1</td>\n",
       "      <td>75080.0</td>\n",
       "      <td>9385.0</td>\n",
       "      <td>21700.0</td>\n",
       "      <td>482</td>\n",
       "      <td>475</td>\n",
       "      <td>337</td>\n",
       "      <td>8</td>\n",
       "      <td>8</td>\n",
       "      <td>0</td>\n",
       "      <td>0.000000</td>\n",
       "      <td>12.666667</td>\n",
       "      <td>3.333333</td>\n",
       "      <td>1.583333</td>\n",
       "      <td>12.616667</td>\n",
       "      <td>3.316667</td>\n",
       "      <td>1.577083</td>\n",
       "      <td>10.733333</td>\n",
       "      <td>6.816667</td>\n",
       "      <td>1.341667</td>\n",
       "      <td>72.0</td>\n",
       "      <td>18.0</td>\n",
       "      <td>9.000000</td>\n",
       "      <td>114310.0</td>\n",
       "      <td>0.0</td>\n",
       "      <td>14080.0</td>\n",
       "      <td>7040.0</td>\n",
       "      <td>0.125</td>\n",
       "      <td>0.250000</td>\n",
       "      <td>0.125000</td>\n",
       "      <td>0.50</td>\n",
       "      <td>7.0</td>\n",
       "      <td>13.0</td>\n",
       "      <td>0.0</td>\n",
       "      <td>0.375000</td>\n",
       "      <td>0</td>\n",
       "    </tr>\n",
       "    <tr>\n",
       "      <th>...</th>\n",
       "      <td>...</td>\n",
       "      <td>...</td>\n",
       "      <td>...</td>\n",
       "      <td>...</td>\n",
       "      <td>...</td>\n",
       "      <td>...</td>\n",
       "      <td>...</td>\n",
       "      <td>...</td>\n",
       "      <td>...</td>\n",
       "      <td>...</td>\n",
       "      <td>...</td>\n",
       "      <td>...</td>\n",
       "      <td>...</td>\n",
       "      <td>...</td>\n",
       "      <td>...</td>\n",
       "      <td>...</td>\n",
       "      <td>...</td>\n",
       "      <td>...</td>\n",
       "      <td>...</td>\n",
       "      <td>...</td>\n",
       "      <td>...</td>\n",
       "      <td>...</td>\n",
       "      <td>...</td>\n",
       "      <td>...</td>\n",
       "      <td>...</td>\n",
       "      <td>...</td>\n",
       "      <td>...</td>\n",
       "      <td>...</td>\n",
       "      <td>...</td>\n",
       "      <td>...</td>\n",
       "      <td>...</td>\n",
       "      <td>...</td>\n",
       "      <td>...</td>\n",
       "      <td>...</td>\n",
       "      <td>...</td>\n",
       "      <td>...</td>\n",
       "      <td>...</td>\n",
       "      <td>...</td>\n",
       "      <td>...</td>\n",
       "      <td>...</td>\n",
       "      <td>...</td>\n",
       "      <td>...</td>\n",
       "    </tr>\n",
       "    <tr>\n",
       "      <th>6845</th>\n",
       "      <td>creo33</td>\n",
       "      <td>GRDA02</td>\n",
       "      <td>여</td>\n",
       "      <td>48</td>\n",
       "      <td>인천</td>\n",
       "      <td>1</td>\n",
       "      <td>1</td>\n",
       "      <td>7390.0</td>\n",
       "      <td>7390.0</td>\n",
       "      <td>7390.0</td>\n",
       "      <td>58</td>\n",
       "      <td>22</td>\n",
       "      <td>22</td>\n",
       "      <td>1</td>\n",
       "      <td>1</td>\n",
       "      <td>0</td>\n",
       "      <td>0.000000</td>\n",
       "      <td>1.500000</td>\n",
       "      <td>1.500000</td>\n",
       "      <td>1.500000</td>\n",
       "      <td>1.600000</td>\n",
       "      <td>1.600000</td>\n",
       "      <td>1.600000</td>\n",
       "      <td>0.250000</td>\n",
       "      <td>0.250000</td>\n",
       "      <td>0.250000</td>\n",
       "      <td>5.0</td>\n",
       "      <td>5.0</td>\n",
       "      <td>5.000000</td>\n",
       "      <td>7390.0</td>\n",
       "      <td>0.0</td>\n",
       "      <td>0.0</td>\n",
       "      <td>2640.0</td>\n",
       "      <td>0.000</td>\n",
       "      <td>1.000000</td>\n",
       "      <td>0.000000</td>\n",
       "      <td>0.00</td>\n",
       "      <td>0.0</td>\n",
       "      <td>10.0</td>\n",
       "      <td>0.0</td>\n",
       "      <td>1.000000</td>\n",
       "      <td>0</td>\n",
       "    </tr>\n",
       "    <tr>\n",
       "      <th>6846</th>\n",
       "      <td>khw9218</td>\n",
       "      <td>GRDA02</td>\n",
       "      <td>여</td>\n",
       "      <td>25</td>\n",
       "      <td>고양</td>\n",
       "      <td>1</td>\n",
       "      <td>1</td>\n",
       "      <td>4180.0</td>\n",
       "      <td>4180.0</td>\n",
       "      <td>4180.0</td>\n",
       "      <td>197</td>\n",
       "      <td>22</td>\n",
       "      <td>22</td>\n",
       "      <td>1</td>\n",
       "      <td>1</td>\n",
       "      <td>0</td>\n",
       "      <td>0.000000</td>\n",
       "      <td>1.000000</td>\n",
       "      <td>1.000000</td>\n",
       "      <td>1.000000</td>\n",
       "      <td>1.250000</td>\n",
       "      <td>1.250000</td>\n",
       "      <td>1.250000</td>\n",
       "      <td>0.066667</td>\n",
       "      <td>0.066667</td>\n",
       "      <td>0.066667</td>\n",
       "      <td>4.0</td>\n",
       "      <td>4.0</td>\n",
       "      <td>4.000000</td>\n",
       "      <td>4180.0</td>\n",
       "      <td>0.0</td>\n",
       "      <td>0.0</td>\n",
       "      <td>0.0</td>\n",
       "      <td>0.000</td>\n",
       "      <td>0.000000</td>\n",
       "      <td>0.000000</td>\n",
       "      <td>0.00</td>\n",
       "      <td>0.0</td>\n",
       "      <td>11.0</td>\n",
       "      <td>0.0</td>\n",
       "      <td>0.000000</td>\n",
       "      <td>0</td>\n",
       "    </tr>\n",
       "    <tr>\n",
       "      <th>6847</th>\n",
       "      <td>diddytlr</td>\n",
       "      <td>GRDA02</td>\n",
       "      <td>남</td>\n",
       "      <td>50</td>\n",
       "      <td>수원</td>\n",
       "      <td>1</td>\n",
       "      <td>1</td>\n",
       "      <td>22960.0</td>\n",
       "      <td>22960.0</td>\n",
       "      <td>22960.0</td>\n",
       "      <td>1571</td>\n",
       "      <td>22</td>\n",
       "      <td>22</td>\n",
       "      <td>1</td>\n",
       "      <td>1</td>\n",
       "      <td>0</td>\n",
       "      <td>0.000000</td>\n",
       "      <td>4.000000</td>\n",
       "      <td>4.000000</td>\n",
       "      <td>4.000000</td>\n",
       "      <td>4.000000</td>\n",
       "      <td>4.000000</td>\n",
       "      <td>4.000000</td>\n",
       "      <td>19.000000</td>\n",
       "      <td>19.000000</td>\n",
       "      <td>19.000000</td>\n",
       "      <td>55.0</td>\n",
       "      <td>55.0</td>\n",
       "      <td>55.000000</td>\n",
       "      <td>22960.0</td>\n",
       "      <td>0.0</td>\n",
       "      <td>0.0</td>\n",
       "      <td>0.0</td>\n",
       "      <td>0.000</td>\n",
       "      <td>0.000000</td>\n",
       "      <td>0.000000</td>\n",
       "      <td>0.00</td>\n",
       "      <td>0.0</td>\n",
       "      <td>14.0</td>\n",
       "      <td>0.0</td>\n",
       "      <td>0.000000</td>\n",
       "      <td>0</td>\n",
       "    </tr>\n",
       "    <tr>\n",
       "      <th>6848</th>\n",
       "      <td>ljj8062</td>\n",
       "      <td>GRDA02</td>\n",
       "      <td>남</td>\n",
       "      <td>48</td>\n",
       "      <td>성남</td>\n",
       "      <td>1</td>\n",
       "      <td>1</td>\n",
       "      <td>8820.0</td>\n",
       "      <td>8820.0</td>\n",
       "      <td>8820.0</td>\n",
       "      <td>41</td>\n",
       "      <td>22</td>\n",
       "      <td>22</td>\n",
       "      <td>1</td>\n",
       "      <td>1</td>\n",
       "      <td>0</td>\n",
       "      <td>0.000000</td>\n",
       "      <td>1.333333</td>\n",
       "      <td>1.333333</td>\n",
       "      <td>1.333333</td>\n",
       "      <td>1.300000</td>\n",
       "      <td>1.300000</td>\n",
       "      <td>1.300000</td>\n",
       "      <td>1.066667</td>\n",
       "      <td>1.066667</td>\n",
       "      <td>1.066667</td>\n",
       "      <td>22.0</td>\n",
       "      <td>22.0</td>\n",
       "      <td>22.000000</td>\n",
       "      <td>8820.0</td>\n",
       "      <td>0.0</td>\n",
       "      <td>0.0</td>\n",
       "      <td>1760.0</td>\n",
       "      <td>0.000</td>\n",
       "      <td>1.000000</td>\n",
       "      <td>0.000000</td>\n",
       "      <td>0.00</td>\n",
       "      <td>0.0</td>\n",
       "      <td>16.0</td>\n",
       "      <td>0.0</td>\n",
       "      <td>0.000000</td>\n",
       "      <td>0</td>\n",
       "    </tr>\n",
       "    <tr>\n",
       "      <th>6849</th>\n",
       "      <td>gosury</td>\n",
       "      <td>GRDA02</td>\n",
       "      <td>남</td>\n",
       "      <td>46</td>\n",
       "      <td>용인</td>\n",
       "      <td>1</td>\n",
       "      <td>1</td>\n",
       "      <td>6620.0</td>\n",
       "      <td>6620.0</td>\n",
       "      <td>6620.0</td>\n",
       "      <td>187</td>\n",
       "      <td>22</td>\n",
       "      <td>22</td>\n",
       "      <td>1</td>\n",
       "      <td>1</td>\n",
       "      <td>0</td>\n",
       "      <td>0.000000</td>\n",
       "      <td>1.000000</td>\n",
       "      <td>1.000000</td>\n",
       "      <td>1.000000</td>\n",
       "      <td>0.733333</td>\n",
       "      <td>0.733333</td>\n",
       "      <td>0.733333</td>\n",
       "      <td>0.016667</td>\n",
       "      <td>0.016667</td>\n",
       "      <td>0.016667</td>\n",
       "      <td>16.0</td>\n",
       "      <td>16.0</td>\n",
       "      <td>16.000000</td>\n",
       "      <td>10520.0</td>\n",
       "      <td>0.0</td>\n",
       "      <td>0.0</td>\n",
       "      <td>0.0</td>\n",
       "      <td>0.000</td>\n",
       "      <td>0.000000</td>\n",
       "      <td>0.000000</td>\n",
       "      <td>0.00</td>\n",
       "      <td>0.0</td>\n",
       "      <td>17.0</td>\n",
       "      <td>1.0</td>\n",
       "      <td>1.000000</td>\n",
       "      <td>0</td>\n",
       "    </tr>\n",
       "  </tbody>\n",
       "</table>\n",
       "<p>6850 rows × 42 columns</p>\n",
       "</div>"
      ],
      "text/plain": [
       "             아이디      등급 성별  연령   주소  차종count  대여존count      총요금합계    총요금평균  \\\n",
       "0        jjy2837  GRDA05  남  48   서울        1         2  2131600.0  47369.0   \n",
       "1     cholong119  GRDA02  여  28   서울        1         1   238550.0  59638.0   \n",
       "2      youmi0217  GRDA06  여  28   인천        3         3  3119020.0  28615.0   \n",
       "3     yunseo1115  GRDA02  여  33   평택        1         1   242480.0  22044.0   \n",
       "4        campos2  GRDA02  여  33  남양주        1         1    75080.0   9385.0   \n",
       "...          ...     ... ..  ..  ...      ...       ...        ...      ...   \n",
       "6845      creo33  GRDA02  여  48   인천        1         1     7390.0   7390.0   \n",
       "6846     khw9218  GRDA02  여  25   고양        1         1     4180.0   4180.0   \n",
       "6847    diddytlr  GRDA02  남  50   수원        1         1    22960.0  22960.0   \n",
       "6848     ljj8062  GRDA02  남  48   성남        1         1     8820.0   8820.0   \n",
       "6849      gosury  GRDA02  남  46   용인        1         1     6620.0   6620.0   \n",
       "\n",
       "         총요금최대  가입후경과일수  최초탑승후경과일수  최근탑승후경과일수  예약일시count   종료  취소      취소비율  \\\n",
       "0     158180.0     1527        723         17         63   45  18  0.285714   \n",
       "1      83080.0      960        759        296          5    4   1  0.200000   \n",
       "2     181560.0     1413        713         23        116  109   7  0.060345   \n",
       "3      48900.0      406        394        360         13   11   2  0.153846   \n",
       "4      21700.0      482        475        337          8    8   0  0.000000   \n",
       "...        ...      ...        ...        ...        ...  ...  ..       ...   \n",
       "6845    7390.0       58         22         22          1    1   0  0.000000   \n",
       "6846    4180.0      197         22         22          1    1   0  0.000000   \n",
       "6847   22960.0     1571         22         22          1    1   0  0.000000   \n",
       "6848    8820.0       41         22         22          1    1   0  0.000000   \n",
       "6849    6620.0      187         22         22          1    1   0  0.000000   \n",
       "\n",
       "         예약시간_총합    예약시간_최대    예약시간_평균     이용시간_총합    이용시간_최대    이용시간_평균  \\\n",
       "0     624.833333  48.000000  13.885185  583.450000  39.933333  12.965556   \n",
       "1      53.500000  21.000000  13.375000   50.000000  20.583333  12.500000   \n",
       "2     621.666667  54.000000   5.703364  583.716667  54.083333   5.355199   \n",
       "3      34.166667   7.500000   3.106061   34.266667   7.400000   3.115152   \n",
       "4      12.666667   3.333333   1.583333   12.616667   3.316667   1.577083   \n",
       "...          ...        ...        ...         ...        ...        ...   \n",
       "6845    1.500000   1.500000   1.500000    1.600000   1.600000   1.600000   \n",
       "6846    1.000000   1.000000   1.000000    1.250000   1.250000   1.250000   \n",
       "6847    4.000000   4.000000   4.000000    4.000000   4.000000   4.000000   \n",
       "6848    1.333333   1.333333   1.333333    1.300000   1.300000   1.300000   \n",
       "6849    1.000000   1.000000   1.000000    0.733333   0.733333   0.733333   \n",
       "\n",
       "        예약대기시간_총합   예약대기시간_최대  예약대기시간_평균  이용거리_총합  이용거리_최대     이용거리_평균  \\\n",
       "0     3237.500000  668.016667  71.944444   5013.0    398.0  111.400000   \n",
       "1       21.033333    8.750000   5.258333    493.0    233.0  123.250000   \n",
       "2      139.916667   36.750000   1.283639   8629.0    511.0   79.165138   \n",
       "3       18.916667   15.400000   1.719697    632.0    124.0   57.454545   \n",
       "4       10.733333    6.816667   1.341667     72.0     18.0    9.000000   \n",
       "...           ...         ...        ...      ...      ...         ...   \n",
       "6845     0.250000    0.250000   0.250000      5.0      5.0    5.000000   \n",
       "6846     0.066667    0.066667   0.066667      4.0      4.0    4.000000   \n",
       "6847    19.000000   19.000000  19.000000     55.0     55.0   55.000000   \n",
       "6848     1.066667    1.066667   1.066667     22.0     22.0   22.000000   \n",
       "6849     0.016667    0.016667   0.016667     16.0     16.0   16.000000   \n",
       "\n",
       "         누적이용금액  취소패널티합계  반납지연요금합계    연장요금합계  반납지연률     연장빈도률     쿠폰사용률  \\\n",
       "0     3213730.0      0.0       0.0   54560.0  0.000  0.111111  0.288889   \n",
       "1     1699735.0      0.0       0.0   18480.0  0.000  0.250000  0.250000   \n",
       "2     4419890.0   5000.0       0.0  287640.0  0.000  0.321101  0.201835   \n",
       "3      242480.0      0.0       0.0   26400.0  0.000  0.181818  0.000000   \n",
       "4      114310.0      0.0   14080.0    7040.0  0.125  0.250000  0.125000   \n",
       "...         ...      ...       ...       ...    ...       ...       ...   \n",
       "6845     7390.0      0.0       0.0    2640.0  0.000  1.000000  0.000000   \n",
       "6846     4180.0      0.0       0.0       0.0  0.000  0.000000  0.000000   \n",
       "6847    22960.0      0.0       0.0       0.0  0.000  0.000000  0.000000   \n",
       "6848     8820.0      0.0       0.0    1760.0  0.000  1.000000  0.000000   \n",
       "6849    10520.0      0.0       0.0       0.0  0.000  0.000000  0.000000   \n",
       "\n",
       "      주말사용율  사용주기  주사용시간대  타도시방문비율  출퇴근시간대사용비율  휴면여부  \n",
       "0      0.67   7.0    10.0      0.0    0.377778     0  \n",
       "1      0.50  15.0    22.0      0.0    0.500000     0  \n",
       "2      0.35   3.0    22.0      0.0    0.155963     0  \n",
       "3      0.45   3.0     1.0      0.0    0.181818     0  \n",
       "4      0.50   7.0    13.0      0.0    0.375000     0  \n",
       "...     ...   ...     ...      ...         ...   ...  \n",
       "6845   0.00   0.0    10.0      0.0    1.000000     0  \n",
       "6846   0.00   0.0    11.0      0.0    0.000000     0  \n",
       "6847   0.00   0.0    14.0      0.0    0.000000     0  \n",
       "6848   0.00   0.0    16.0      0.0    0.000000     0  \n",
       "6849   0.00   0.0    17.0      1.0    1.000000     0  \n",
       "\n",
       "[6850 rows x 42 columns]"
      ]
     },
     "execution_count": 44,
     "metadata": {},
     "output_type": "execute_result"
    }
   ],
   "source": [
    "df"
   ]
  },
  {
   "cell_type": "code",
   "execution_count": 45,
   "id": "5b058afb",
   "metadata": {},
   "outputs": [
    {
     "name": "stdout",
     "output_type": "stream",
     "text": [
      "0.1322824116554203\n",
      "0.08006996658312449\n"
     ]
    }
   ],
   "source": [
    "print(df_고객['취소비율'].mean())\n",
    "print(df_휴면['취소비율'].mean())"
   ]
  },
  {
   "cell_type": "code",
   "execution_count": 53,
   "id": "56c0ae3d",
   "metadata": {},
   "outputs": [
    {
     "name": "stdout",
     "output_type": "stream",
     "text": [
      "16.523138708109393\n",
      "14.744603872574324\n",
      "21.17024644946095\n"
     ]
    }
   ],
   "source": [
    "print(df_고객['예약대기시간_평균'].mean())\n",
    "print(df_휴면x['예약대기시간_평균'].mean())\n",
    "print(df_휴면['예약대기시간_평균'].mean())"
   ]
  },
  {
   "cell_type": "code",
   "execution_count": 54,
   "id": "8634de7c",
   "metadata": {},
   "outputs": [
    {
     "name": "stdout",
     "output_type": "stream",
     "text": [
      "30565.906515580737\n",
      "16912.94714840251\n",
      "3382.1052631578946\n"
     ]
    }
   ],
   "source": [
    "print(df_고객['연장요금합계'].mean())\n",
    "print(df_휴면x['연장요금합계'].mean())\n",
    "print(df_휴면['연장요금합계'].mean())"
   ]
  },
  {
   "cell_type": "code",
   "execution_count": 55,
   "id": "8b2b2c14",
   "metadata": {},
   "outputs": [
    {
     "name": "stdout",
     "output_type": "stream",
     "text": [
      "0.17014401913178134\n",
      "0.26333656403615613\n",
      "0.04276315789473684\n"
     ]
    }
   ],
   "source": [
    "print(df_고객['쿠폰사용률'].mean())\n",
    "print(df_휴면x['쿠폰사용률'].mean())\n",
    "print(df_휴면['쿠폰사용률'].mean())"
   ]
  },
  {
   "cell_type": "code",
   "execution_count": 59,
   "id": "37ebc6a6",
   "metadata": {},
   "outputs": [
    {
     "name": "stdout",
     "output_type": "stream",
     "text": [
      "0.035892572644193134\n",
      "0.03964359975815942\n",
      "0.049342105263157895\n"
     ]
    }
   ],
   "source": [
    "print(df_고객['타도시방문비율'].mean())\n",
    "print(df_휴면x['타도시방문비율'].mean())\n",
    "print(df_휴면['타도시방문비율'].mean())"
   ]
  },
  {
   "cell_type": "code",
   "execution_count": 61,
   "id": "f705f94f",
   "metadata": {},
   "outputs": [
    {
     "name": "stdout",
     "output_type": "stream",
     "text": [
      "0.40089415853954524\n",
      "0.39828169286854376\n",
      "0.4194235588972431\n"
     ]
    }
   ],
   "source": [
    "print(df_고객['출퇴근시간대사용비율'].mean())\n",
    "print(df_휴면x['출퇴근시간대사용비율'].mean())\n",
    "print(df_휴면['출퇴근시간대사용비율'].mean())"
   ]
  },
  {
   "cell_type": "code",
   "execution_count": null,
   "id": "9704f6b7",
   "metadata": {},
   "outputs": [],
   "source": []
  }
 ],
 "metadata": {
  "kernelspec": {
   "display_name": "Python 3 (ipykernel)",
   "language": "python",
   "name": "python3"
  },
  "language_info": {
   "codemirror_mode": {
    "name": "ipython",
    "version": 3
   },
   "file_extension": ".py",
   "mimetype": "text/x-python",
   "name": "python",
   "nbconvert_exporter": "python",
   "pygments_lexer": "ipython3",
   "version": "3.9.7"
  }
 },
 "nbformat": 4,
 "nbformat_minor": 5
}
